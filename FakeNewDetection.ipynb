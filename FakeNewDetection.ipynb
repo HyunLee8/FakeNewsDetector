{
 "cells": [
  {
   "cell_type": "markdown",
   "id": "f461397c",
   "metadata": {},
   "source": [
    "## USING RNNs and LSTM to detect fake News"
   ]
  },
  {
   "cell_type": "code",
   "execution_count": 241,
   "id": "76ee71ea",
   "metadata": {},
   "outputs": [],
   "source": [
    "import warnings\n",
    "warnings.filterwarnings('ignore')\n",
    "\n",
    "import tensorflow as tf\n",
    "from tensorflow.keras.models import Sequential\n",
    "from tensorflow.keras.layers import Embedding, Dense, LSTM\n",
    "from tensorflow.keras.callbacks import EarlyStopping, ModelCheckpoint\n",
    "from tensorflow.keras.preprocessing.text import one_hot\n",
    "from tensorflow.keras.preprocessing.sequence import pad_sequences\n",
    "from tensorflow.keras.layers import Dropout\n",
    "\n",
    "import pandas as pd\n",
    "import numpy as np\n",
    "import matplotlib.pyplot as plt\n",
    "from sklearn.preprocessing import LabelEncoder\n",
    "import nltk\n",
    "from nltk.stem.snowball import SnowballStemmer\n",
    "import regex as re\n",
    "from nltk.tokenize import sent_tokenize\n",
    "from sklearn.metrics import accuracy_score, confusion_matrix, classification_report\n",
    "from sklearn.model_selection import train_test_split\n",
    "from nltk.corpus import stopwords\n"
   ]
  },
  {
   "cell_type": "code",
   "execution_count": 242,
   "id": "62adc7db",
   "metadata": {},
   "outputs": [
    {
     "name": "stderr",
     "output_type": "stream",
     "text": [
      "[nltk_data] Error loading stopwords: <urlopen error [SSL:\n",
      "[nltk_data]     CERTIFICATE_VERIFY_FAILED] certificate verify failed:\n",
      "[nltk_data]     unable to get local issuer certificate (_ssl.c:1028)>\n",
      "[nltk_data] Error loading punkt: <urlopen error [SSL:\n",
      "[nltk_data]     CERTIFICATE_VERIFY_FAILED] certificate verify failed:\n",
      "[nltk_data]     unable to get local issuer certificate (_ssl.c:1028)>\n",
      "[nltk_data] Error loading wordnet: <urlopen error [SSL:\n",
      "[nltk_data]     CERTIFICATE_VERIFY_FAILED] certificate verify failed:\n",
      "[nltk_data]     unable to get local issuer certificate (_ssl.c:1028)>\n"
     ]
    }
   ],
   "source": [
    "#gets filler words like \"the\", \"is\", \"in\". Meant to clean up text data\n",
    "nltk.download('stopwords')\n",
    "\n",
    "#gets pretrained model that splits up sentences into words or paragraphs into sentences\n",
    "nltk.download('punkt')\n",
    "\n",
    "#can group words into meaning synonyms, antonyms, Hypernyms, hyponyms, etc.\n",
    "nltk.download('wordnet')\n",
    "\n",
    "#putting stop words into a variable for later use\n",
    "stop_words = stopwords.words('english')"
   ]
  },
  {
   "cell_type": "code",
   "execution_count": 243,
   "id": "7b7fa58f",
   "metadata": {},
   "outputs": [],
   "source": [
    "df_fake = pd.read_csv('Fake.csv')\n",
    "df_true = pd.read_csv('True.csv')"
   ]
  },
  {
   "cell_type": "code",
   "execution_count": 244,
   "id": "7980cb2e",
   "metadata": {},
   "outputs": [
    {
     "data": {
      "text/html": [
       "<div>\n",
       "<style scoped>\n",
       "    .dataframe tbody tr th:only-of-type {\n",
       "        vertical-align: middle;\n",
       "    }\n",
       "\n",
       "    .dataframe tbody tr th {\n",
       "        vertical-align: top;\n",
       "    }\n",
       "\n",
       "    .dataframe thead th {\n",
       "        text-align: right;\n",
       "    }\n",
       "</style>\n",
       "<table border=\"1\" class=\"dataframe\">\n",
       "  <thead>\n",
       "    <tr style=\"text-align: right;\">\n",
       "      <th></th>\n",
       "      <th>title</th>\n",
       "      <th>text</th>\n",
       "      <th>subject</th>\n",
       "      <th>date</th>\n",
       "    </tr>\n",
       "  </thead>\n",
       "  <tbody>\n",
       "    <tr>\n",
       "      <th>0</th>\n",
       "      <td>As U.S. budget fight looms, Republicans flip their fiscal script</td>\n",
       "      <td>WASHINGTON (Reuters) - The head of a conservative Republican faction in the U.S. Congress, who voted this month for a huge expansion of the national debt to pay for tax cuts, called himself a “fiscal conservative” on Sunday and urged budget restraint in 2018. In keeping with a sharp pivot under way among Republicans, U.S. Representative Mark Meadows, speaking on CBS’ “Face the Nation,” drew a hard line on federal spending, which lawmakers are bracing to do battle over in January. When they r...</td>\n",
       "      <td>politicsNews</td>\n",
       "      <td>December 31, 2017</td>\n",
       "    </tr>\n",
       "    <tr>\n",
       "      <th>1</th>\n",
       "      <td>U.S. military to accept transgender recruits on Monday: Pentagon</td>\n",
       "      <td>WASHINGTON (Reuters) - Transgender people will be allowed for the first time to enlist in the U.S. military starting on Monday as ordered by federal courts, the Pentagon said on Friday, after President Donald Trump’s administration decided not to appeal rulings that blocked his transgender ban. Two federal appeals courts, one in Washington and one in Virginia, last week rejected the administration’s request to put on hold orders by lower court judges requiring the military to begin accepting...</td>\n",
       "      <td>politicsNews</td>\n",
       "      <td>December 29, 2017</td>\n",
       "    </tr>\n",
       "    <tr>\n",
       "      <th>2</th>\n",
       "      <td>Senior U.S. Republican senator: 'Let Mr. Mueller do his job'</td>\n",
       "      <td>WASHINGTON (Reuters) - The special counsel investigation of links between Russia and President Trump’s 2016 election campaign should continue without interference in 2018, despite calls from some Trump administration allies and Republican lawmakers to shut it down, a prominent Republican senator said on Sunday. Lindsey Graham, who serves on the Senate armed forces and judiciary committees, said Department of Justice Special Counsel Robert Mueller needs to carry on with his Russia investigati...</td>\n",
       "      <td>politicsNews</td>\n",
       "      <td>December 31, 2017</td>\n",
       "    </tr>\n",
       "    <tr>\n",
       "      <th>3</th>\n",
       "      <td>FBI Russia probe helped by Australian diplomat tip-off: NYT</td>\n",
       "      <td>WASHINGTON (Reuters) - Trump campaign adviser George Papadopoulos told an Australian diplomat in May 2016 that Russia had political dirt on Democratic presidential candidate Hillary Clinton, the New York Times reported on Saturday. The conversation between Papadopoulos and the diplomat, Alexander Downer, in London was a driving factor behind the FBI’s decision to open a counter-intelligence investigation of Moscow’s contacts with the Trump campaign, the Times reported. Two months after the m...</td>\n",
       "      <td>politicsNews</td>\n",
       "      <td>December 30, 2017</td>\n",
       "    </tr>\n",
       "    <tr>\n",
       "      <th>4</th>\n",
       "      <td>Trump wants Postal Service to charge 'much more' for Amazon shipments</td>\n",
       "      <td>SEATTLE/WASHINGTON (Reuters) - President Donald Trump called on the U.S. Postal Service on Friday to charge “much more” to ship packages for Amazon (AMZN.O), picking another fight with an online retail giant he has criticized in the past.     “Why is the United States Post Office, which is losing many billions of dollars a year, while charging Amazon and others so little to deliver their packages, making Amazon richer and the Post Office dumber and poorer? Should be charging MUCH MORE!” Trum...</td>\n",
       "      <td>politicsNews</td>\n",
       "      <td>December 29, 2017</td>\n",
       "    </tr>\n",
       "  </tbody>\n",
       "</table>\n",
       "</div>"
      ],
      "text/plain": [
       "                                                                   title  \\\n",
       "0       As U.S. budget fight looms, Republicans flip their fiscal script   \n",
       "1       U.S. military to accept transgender recruits on Monday: Pentagon   \n",
       "2           Senior U.S. Republican senator: 'Let Mr. Mueller do his job'   \n",
       "3            FBI Russia probe helped by Australian diplomat tip-off: NYT   \n",
       "4  Trump wants Postal Service to charge 'much more' for Amazon shipments   \n",
       "\n",
       "                                                                                                                                                                                                                                                                                                                                                                                                                                                                                                                  text  \\\n",
       "0  WASHINGTON (Reuters) - The head of a conservative Republican faction in the U.S. Congress, who voted this month for a huge expansion of the national debt to pay for tax cuts, called himself a “fiscal conservative” on Sunday and urged budget restraint in 2018. In keeping with a sharp pivot under way among Republicans, U.S. Representative Mark Meadows, speaking on CBS’ “Face the Nation,” drew a hard line on federal spending, which lawmakers are bracing to do battle over in January. When they r...   \n",
       "1  WASHINGTON (Reuters) - Transgender people will be allowed for the first time to enlist in the U.S. military starting on Monday as ordered by federal courts, the Pentagon said on Friday, after President Donald Trump’s administration decided not to appeal rulings that blocked his transgender ban. Two federal appeals courts, one in Washington and one in Virginia, last week rejected the administration’s request to put on hold orders by lower court judges requiring the military to begin accepting...   \n",
       "2  WASHINGTON (Reuters) - The special counsel investigation of links between Russia and President Trump’s 2016 election campaign should continue without interference in 2018, despite calls from some Trump administration allies and Republican lawmakers to shut it down, a prominent Republican senator said on Sunday. Lindsey Graham, who serves on the Senate armed forces and judiciary committees, said Department of Justice Special Counsel Robert Mueller needs to carry on with his Russia investigati...   \n",
       "3  WASHINGTON (Reuters) - Trump campaign adviser George Papadopoulos told an Australian diplomat in May 2016 that Russia had political dirt on Democratic presidential candidate Hillary Clinton, the New York Times reported on Saturday. The conversation between Papadopoulos and the diplomat, Alexander Downer, in London was a driving factor behind the FBI’s decision to open a counter-intelligence investigation of Moscow’s contacts with the Trump campaign, the Times reported. Two months after the m...   \n",
       "4  SEATTLE/WASHINGTON (Reuters) - President Donald Trump called on the U.S. Postal Service on Friday to charge “much more” to ship packages for Amazon (AMZN.O), picking another fight with an online retail giant he has criticized in the past.     “Why is the United States Post Office, which is losing many billions of dollars a year, while charging Amazon and others so little to deliver their packages, making Amazon richer and the Post Office dumber and poorer? Should be charging MUCH MORE!” Trum...   \n",
       "\n",
       "        subject                date  \n",
       "0  politicsNews  December 31, 2017   \n",
       "1  politicsNews  December 29, 2017   \n",
       "2  politicsNews  December 31, 2017   \n",
       "3  politicsNews  December 30, 2017   \n",
       "4  politicsNews  December 29, 2017   "
      ]
     },
     "execution_count": 244,
     "metadata": {},
     "output_type": "execute_result"
    }
   ],
   "source": [
    "df_true.head()"
   ]
  },
  {
   "cell_type": "code",
   "execution_count": 245,
   "id": "15236b79",
   "metadata": {},
   "outputs": [
    {
     "data": {
      "text/html": [
       "<div>\n",
       "<style scoped>\n",
       "    .dataframe tbody tr th:only-of-type {\n",
       "        vertical-align: middle;\n",
       "    }\n",
       "\n",
       "    .dataframe tbody tr th {\n",
       "        vertical-align: top;\n",
       "    }\n",
       "\n",
       "    .dataframe thead th {\n",
       "        text-align: right;\n",
       "    }\n",
       "</style>\n",
       "<table border=\"1\" class=\"dataframe\">\n",
       "  <thead>\n",
       "    <tr style=\"text-align: right;\">\n",
       "      <th></th>\n",
       "      <th>title</th>\n",
       "      <th>text</th>\n",
       "      <th>subject</th>\n",
       "      <th>date</th>\n",
       "    </tr>\n",
       "  </thead>\n",
       "  <tbody>\n",
       "    <tr>\n",
       "      <th>0</th>\n",
       "      <td>Donald Trump Sends Out Embarrassing New Year’s Eve Message; This is Disturbing</td>\n",
       "      <td>Donald Trump just couldn t wish all Americans a Happy New Year and leave it at that. Instead, he had to give a shout out to his enemies, haters and  the very dishonest fake news media.  The former reality show star had just one job to do and he couldn t do it. As our Country rapidly grows stronger and smarter, I want to wish all of my friends, supporters, enemies, haters, and even the very dishonest Fake News Media, a Happy and Healthy New Year,  President Angry Pants tweeted.  2018 will be ...</td>\n",
       "      <td>News</td>\n",
       "      <td>December 31, 2017</td>\n",
       "    </tr>\n",
       "    <tr>\n",
       "      <th>1</th>\n",
       "      <td>Drunk Bragging Trump Staffer Started Russian Collusion Investigation</td>\n",
       "      <td>House Intelligence Committee Chairman Devin Nunes is going to have a bad day. He s been under the assumption, like many of us, that the Christopher Steele-dossier was what prompted the Russia investigation so he s been lashing out at the Department of Justice and the FBI in order to protect Trump. As it happens, the dossier is not what started the investigation, according to documents obtained by the New York Times.Former Trump campaign adviser George Papadopoulos was drunk in a wine bar whe...</td>\n",
       "      <td>News</td>\n",
       "      <td>December 31, 2017</td>\n",
       "    </tr>\n",
       "    <tr>\n",
       "      <th>2</th>\n",
       "      <td>Sheriff David Clarke Becomes An Internet Joke For Threatening To Poke People ‘In The Eye’</td>\n",
       "      <td>On Friday, it was revealed that former Milwaukee Sheriff David Clarke, who was being considered for Homeland Security Secretary in Donald Trump s administration, has an email scandal of his own.In January, there was a brief run-in on a plane between Clarke and fellow passenger Dan Black, who he later had detained by the police for no reason whatsoever, except that maybe his feelings were hurt. Clarke messaged the police to stop Black after he deplaned, and now, a search warrant has been exec...</td>\n",
       "      <td>News</td>\n",
       "      <td>December 30, 2017</td>\n",
       "    </tr>\n",
       "    <tr>\n",
       "      <th>3</th>\n",
       "      <td>Trump Is So Obsessed He Even Has Obama’s Name Coded Into His Website (IMAGES)</td>\n",
       "      <td>On Christmas day, Donald Trump announced that he would  be back to work  the following day, but he is golfing for the fourth day in a row. The former reality show star blasted former President Barack Obama for playing golf and now Trump is on track to outpace the number of golf games his predecessor played.Updated my tracker of Trump s appearances at Trump properties.71 rounds of golf including today s. At this pace, he ll pass Obama s first-term total by July 24 next year. https://t.co/Fg7V...</td>\n",
       "      <td>News</td>\n",
       "      <td>December 29, 2017</td>\n",
       "    </tr>\n",
       "    <tr>\n",
       "      <th>4</th>\n",
       "      <td>Pope Francis Just Called Out Donald Trump During His Christmas Speech</td>\n",
       "      <td>Pope Francis used his annual Christmas Day message to rebuke Donald Trump without even mentioning his name. The Pope delivered his message just days after members of the United Nations condemned Trump s move to recognize Jerusalem as the capital of Israel. The Pontiff prayed on Monday for the  peaceful coexistence of two states within mutually agreed and internationally recognized borders. We see Jesus in the children of the Middle East who continue to suffer because of growing tensions betw...</td>\n",
       "      <td>News</td>\n",
       "      <td>December 25, 2017</td>\n",
       "    </tr>\n",
       "  </tbody>\n",
       "</table>\n",
       "</div>"
      ],
      "text/plain": [
       "                                                                                        title  \\\n",
       "0              Donald Trump Sends Out Embarrassing New Year’s Eve Message; This is Disturbing   \n",
       "1                        Drunk Bragging Trump Staffer Started Russian Collusion Investigation   \n",
       "2   Sheriff David Clarke Becomes An Internet Joke For Threatening To Poke People ‘In The Eye’   \n",
       "3               Trump Is So Obsessed He Even Has Obama’s Name Coded Into His Website (IMAGES)   \n",
       "4                       Pope Francis Just Called Out Donald Trump During His Christmas Speech   \n",
       "\n",
       "                                                                                                                                                                                                                                                                                                                                                                                                                                                                                                                  text  \\\n",
       "0  Donald Trump just couldn t wish all Americans a Happy New Year and leave it at that. Instead, he had to give a shout out to his enemies, haters and  the very dishonest fake news media.  The former reality show star had just one job to do and he couldn t do it. As our Country rapidly grows stronger and smarter, I want to wish all of my friends, supporters, enemies, haters, and even the very dishonest Fake News Media, a Happy and Healthy New Year,  President Angry Pants tweeted.  2018 will be ...   \n",
       "1  House Intelligence Committee Chairman Devin Nunes is going to have a bad day. He s been under the assumption, like many of us, that the Christopher Steele-dossier was what prompted the Russia investigation so he s been lashing out at the Department of Justice and the FBI in order to protect Trump. As it happens, the dossier is not what started the investigation, according to documents obtained by the New York Times.Former Trump campaign adviser George Papadopoulos was drunk in a wine bar whe...   \n",
       "2  On Friday, it was revealed that former Milwaukee Sheriff David Clarke, who was being considered for Homeland Security Secretary in Donald Trump s administration, has an email scandal of his own.In January, there was a brief run-in on a plane between Clarke and fellow passenger Dan Black, who he later had detained by the police for no reason whatsoever, except that maybe his feelings were hurt. Clarke messaged the police to stop Black after he deplaned, and now, a search warrant has been exec...   \n",
       "3  On Christmas day, Donald Trump announced that he would  be back to work  the following day, but he is golfing for the fourth day in a row. The former reality show star blasted former President Barack Obama for playing golf and now Trump is on track to outpace the number of golf games his predecessor played.Updated my tracker of Trump s appearances at Trump properties.71 rounds of golf including today s. At this pace, he ll pass Obama s first-term total by July 24 next year. https://t.co/Fg7V...   \n",
       "4  Pope Francis used his annual Christmas Day message to rebuke Donald Trump without even mentioning his name. The Pope delivered his message just days after members of the United Nations condemned Trump s move to recognize Jerusalem as the capital of Israel. The Pontiff prayed on Monday for the  peaceful coexistence of two states within mutually agreed and internationally recognized borders. We see Jesus in the children of the Middle East who continue to suffer because of growing tensions betw...   \n",
       "\n",
       "  subject               date  \n",
       "0    News  December 31, 2017  \n",
       "1    News  December 31, 2017  \n",
       "2    News  December 30, 2017  \n",
       "3    News  December 29, 2017  \n",
       "4    News  December 25, 2017  "
      ]
     },
     "execution_count": 245,
     "metadata": {},
     "output_type": "execute_result"
    }
   ],
   "source": [
    "df_fake.head()"
   ]
  },
  {
   "cell_type": "code",
   "execution_count": 246,
   "id": "d847489c",
   "metadata": {},
   "outputs": [],
   "source": [
    "#categorize them\n",
    "df_true['status'] = 1\n",
    "df_fake['status'] = 0"
   ]
  },
  {
   "cell_type": "code",
   "execution_count": 247,
   "id": "29066213",
   "metadata": {},
   "outputs": [],
   "source": [
    "#comibine both data frames\n",
    "df = pd.concat([df_true, df_fake])\n",
    "\n",
    "#we are only using the title to predict if news is fake or true thus drop the others\n",
    "df.drop(['text', 'subject', 'date'], axis=1, inplace=True)"
   ]
  },
  {
   "cell_type": "code",
   "execution_count": 248,
   "id": "3ab574e9",
   "metadata": {},
   "outputs": [],
   "source": [
    "#mix up the data frame so that fake and true news are not in order\n",
    "df = df.sample(frac=1, random_state=42).reset_index(drop=True)"
   ]
  },
  {
   "cell_type": "code",
   "execution_count": 261,
   "id": "d5e42dbe",
   "metadata": {},
   "outputs": [
    {
     "data": {
      "text/html": [
       "<div>\n",
       "<style scoped>\n",
       "    .dataframe tbody tr th:only-of-type {\n",
       "        vertical-align: middle;\n",
       "    }\n",
       "\n",
       "    .dataframe tbody tr th {\n",
       "        vertical-align: top;\n",
       "    }\n",
       "\n",
       "    .dataframe thead th {\n",
       "        text-align: right;\n",
       "    }\n",
       "</style>\n",
       "<table border=\"1\" class=\"dataframe\">\n",
       "  <thead>\n",
       "    <tr style=\"text-align: right;\">\n",
       "      <th></th>\n",
       "      <th>title</th>\n",
       "      <th>status</th>\n",
       "      <th>maximum_length</th>\n",
       "    </tr>\n",
       "  </thead>\n",
       "  <tbody>\n",
       "    <tr>\n",
       "      <th>22997</th>\n",
       "      <td>British PM May forces her deputy to resign over pornography scandal</td>\n",
       "      <td>1</td>\n",
       "      <td>11</td>\n",
       "    </tr>\n",
       "    <tr>\n",
       "      <th>28920</th>\n",
       "      <td>Exclusive: Cambodia says opposition party could be barred from election</td>\n",
       "      <td>1</td>\n",
       "      <td>10</td>\n",
       "    </tr>\n",
       "    <tr>\n",
       "      <th>34828</th>\n",
       "      <td>James Clapper Drops STUNNING Truthbomb: Russia Behind ‘Fake News’ In 2016 Election (VIDEO)</td>\n",
       "      <td>0</td>\n",
       "      <td>13</td>\n",
       "    </tr>\n",
       "    <tr>\n",
       "      <th>1173</th>\n",
       "      <td>California lawmakers release environmental bills in attempt to thwart Trump</td>\n",
       "      <td>1</td>\n",
       "      <td>10</td>\n",
       "    </tr>\n",
       "    <tr>\n",
       "      <th>9603</th>\n",
       "      <td>Trump administration's NAFTA demands make sense: Union Pacific CEO</td>\n",
       "      <td>1</td>\n",
       "      <td>9</td>\n",
       "    </tr>\n",
       "    <tr>\n",
       "      <th>12766</th>\n",
       "      <td>U.S. seeks to reassure Beijing after Trump call with Taiwan leader</td>\n",
       "      <td>1</td>\n",
       "      <td>11</td>\n",
       "    </tr>\n",
       "    <tr>\n",
       "      <th>441</th>\n",
       "      <td>South Korea, U.S., Japan kick off two-day missile tracking drill: South Korea military</td>\n",
       "      <td>1</td>\n",
       "      <td>13</td>\n",
       "    </tr>\n",
       "    <tr>\n",
       "      <th>41964</th>\n",
       "      <td>FOX LEGAL EXPERT CALLS OUT ‘PARTIAL’ MUELLER: Must Resign After Latest Hire Who Was Appointed by Obama [Video]</td>\n",
       "      <td>0</td>\n",
       "      <td>18</td>\n",
       "    </tr>\n",
       "    <tr>\n",
       "      <th>34712</th>\n",
       "      <td>WE WILL NOT COMPLY! VA Residents Refuse To Obey Leftist Governor’s Ban On Confederate Flag License Plates</td>\n",
       "      <td>0</td>\n",
       "      <td>17</td>\n",
       "    </tr>\n",
       "    <tr>\n",
       "      <th>43428</th>\n",
       "      <td>‘Neutral’ Elizabeth Warren’s Upcoming Endorsement Signals Unity Within Democratic Party</td>\n",
       "      <td>0</td>\n",
       "      <td>10</td>\n",
       "    </tr>\n",
       "    <tr>\n",
       "      <th>42647</th>\n",
       "      <td>Kansas, ACLU reach temporary agreement on voter ID</td>\n",
       "      <td>1</td>\n",
       "      <td>8</td>\n",
       "    </tr>\n",
       "    <tr>\n",
       "      <th>40852</th>\n",
       "      <td>Senate parliamentarian rules against tax bill provisions: Sanders</td>\n",
       "      <td>1</td>\n",
       "      <td>8</td>\n",
       "    </tr>\n",
       "    <tr>\n",
       "      <th>213</th>\n",
       "      <td>Israel's Netanyahu expresses hope for U.S. peace push in Middle East</td>\n",
       "      <td>1</td>\n",
       "      <td>11</td>\n",
       "    </tr>\n",
       "    <tr>\n",
       "      <th>40601</th>\n",
       "      <td>House Freedom Caucus signals support for healthcare bill with changes</td>\n",
       "      <td>1</td>\n",
       "      <td>10</td>\n",
       "    </tr>\n",
       "    <tr>\n",
       "      <th>36167</th>\n",
       "      <td>U.S. lawmakers delay bill on European data privacy deal</td>\n",
       "      <td>1</td>\n",
       "      <td>9</td>\n",
       "    </tr>\n",
       "    <tr>\n",
       "      <th>41580</th>\n",
       "      <td>Court Smacks Down Utah’s Attempt To Defund Planned Parenthood</td>\n",
       "      <td>0</td>\n",
       "      <td>9</td>\n",
       "    </tr>\n",
       "    <tr>\n",
       "      <th>1234</th>\n",
       "      <td>BREAKING LIVE FEED: POLICE FORM LARGE BARRICADE In Atlanta To Keep LARGE Crowd Of Black Lives Matter Protesters Off Major Highway…Protesters Launch Water Bottles At Trucker</td>\n",
       "      <td>0</td>\n",
       "      <td>26</td>\n",
       "    </tr>\n",
       "    <tr>\n",
       "      <th>16169</th>\n",
       "      <td>SHOUT! POLL: Do the ‘White Helmets’ Qualify for a Nobel Peace Prize?</td>\n",
       "      <td>0</td>\n",
       "      <td>12</td>\n",
       "    </tr>\n",
       "    <tr>\n",
       "      <th>23649</th>\n",
       "      <td>WATCH: NBC’S CHUCK TODD Attempts To “Normalize” ANTIFA TERROR GROUP…Interviews DARTMOUTH PROFESSOR Who Claims Violence Against Trump Supporters Is “Self-Defense” and “Ethical”</td>\n",
       "      <td>0</td>\n",
       "      <td>22</td>\n",
       "    </tr>\n",
       "    <tr>\n",
       "      <th>41470</th>\n",
       "      <td>Republicans Are Now Threatening To KILL Transgender Students At This University</td>\n",
       "      <td>0</td>\n",
       "      <td>11</td>\n",
       "    </tr>\n",
       "  </tbody>\n",
       "</table>\n",
       "</div>"
      ],
      "text/plain": [
       "                                                                                                                                                                                 title  \\\n",
       "22997                                                                                                              British PM May forces her deputy to resign over pornography scandal   \n",
       "28920                                                                                                          Exclusive: Cambodia says opposition party could be barred from election   \n",
       "34828                                                                                       James Clapper Drops STUNNING Truthbomb: Russia Behind ‘Fake News’ In 2016 Election (VIDEO)   \n",
       "1173                                                                                                       California lawmakers release environmental bills in attempt to thwart Trump   \n",
       "9603                                                                                                                Trump administration's NAFTA demands make sense: Union Pacific CEO   \n",
       "12766                                                                                                               U.S. seeks to reassure Beijing after Trump call with Taiwan leader   \n",
       "441                                                                                             South Korea, U.S., Japan kick off two-day missile tracking drill: South Korea military   \n",
       "41964                                                                   FOX LEGAL EXPERT CALLS OUT ‘PARTIAL’ MUELLER: Must Resign After Latest Hire Who Was Appointed by Obama [Video]   \n",
       "34712                                                                        WE WILL NOT COMPLY! VA Residents Refuse To Obey Leftist Governor’s Ban On Confederate Flag License Plates   \n",
       "43428                                                                                          ‘Neutral’ Elizabeth Warren’s Upcoming Endorsement Signals Unity Within Democratic Party   \n",
       "42647                                                                                                                               Kansas, ACLU reach temporary agreement on voter ID   \n",
       "40852                                                                                                                Senate parliamentarian rules against tax bill provisions: Sanders   \n",
       "213                                                                                                               Israel's Netanyahu expresses hope for U.S. peace push in Middle East   \n",
       "40601                                                                                                            House Freedom Caucus signals support for healthcare bill with changes   \n",
       "36167                                                                                                                          U.S. lawmakers delay bill on European data privacy deal   \n",
       "41580                                                                                                                    Court Smacks Down Utah’s Attempt To Defund Planned Parenthood   \n",
       "1234      BREAKING LIVE FEED: POLICE FORM LARGE BARRICADE In Atlanta To Keep LARGE Crowd Of Black Lives Matter Protesters Off Major Highway…Protesters Launch Water Bottles At Trucker   \n",
       "16169                                                                                                             SHOUT! POLL: Do the ‘White Helmets’ Qualify for a Nobel Peace Prize?   \n",
       "23649  WATCH: NBC’S CHUCK TODD Attempts To “Normalize” ANTIFA TERROR GROUP…Interviews DARTMOUTH PROFESSOR Who Claims Violence Against Trump Supporters Is “Self-Defense” and “Ethical”   \n",
       "41470                                                                                                  Republicans Are Now Threatening To KILL Transgender Students At This University   \n",
       "\n",
       "       status  maximum_length  \n",
       "22997       1              11  \n",
       "28920       1              10  \n",
       "34828       0              13  \n",
       "1173        1              10  \n",
       "9603        1               9  \n",
       "12766       1              11  \n",
       "441         1              13  \n",
       "41964       0              18  \n",
       "34712       0              17  \n",
       "43428       0              10  \n",
       "42647       1               8  \n",
       "40852       1               8  \n",
       "213         1              11  \n",
       "40601       1              10  \n",
       "36167       1               9  \n",
       "41580       0               9  \n",
       "1234        0              26  \n",
       "16169       0              12  \n",
       "23649       0              22  \n",
       "41470       0              11  "
      ]
     },
     "execution_count": 261,
     "metadata": {},
     "output_type": "execute_result"
    }
   ],
   "source": [
    "pd.set_option('display.max_colwidth', 500)\n",
    "random = np.random.randint(0,len(df),20)\n",
    "df.iloc[random]"
   ]
  },
  {
   "cell_type": "code",
   "execution_count": 250,
   "id": "b35b4f7c",
   "metadata": {},
   "outputs": [
    {
     "data": {
      "text/plain": [
       "title     0\n",
       "status    0\n",
       "dtype: int64"
      ]
     },
     "execution_count": 250,
     "metadata": {},
     "output_type": "execute_result"
    }
   ],
   "source": [
    "#check for null values\n",
    "df.isnull().sum()"
   ]
  },
  {
   "cell_type": "code",
   "execution_count": 251,
   "id": "eddeb0d8",
   "metadata": {},
   "outputs": [
    {
     "name": "stdout",
     "output_type": "stream",
     "text": [
      "The longest length of a sentence is 42 words.\n"
     ]
    }
   ],
   "source": [
    "#gets the length of a inputted sentence\n",
    "def longest_sentence_length(text):\n",
    "\treturn len(text.split())\n",
    "\n",
    "#Neural networks expect inputs of the same length\n",
    "#So i have to make it a range of length from 0-max_length in my case 42\n",
    "df['maximum_length'] = df['title'].apply(lambda x : longest_sentence_length(x))\n",
    "max_length = max(df['maximum_length'])\n",
    "print(f'The longest length of a sentence is {max_length} words.')"
   ]
  },
  {
   "cell_type": "code",
   "execution_count": 252,
   "id": "187f9aeb",
   "metadata": {},
   "outputs": [],
   "source": [
    "#exaclty how to clean up text: removes things that start with 0 or non alphanumeric characters\n",
    "text_cleaning = \"\\b0\\S*|\\b[^A-Za-z0-9]+\"\n",
    "\n",
    "#stemming which is reducing works to their root like running -> run is disabled \n",
    "def preprocessing_filter(text, stem=False):\n",
    "\t\n",
    "\t#removes the unwanted characters using 'text_cleaning' \n",
    "\ttext = re.sub(text_cleaning, ' ', text)\n",
    "\n",
    "\t#creates an empty list of the words we are about to put inside\n",
    "\ttokens = []\n",
    "\n",
    "\t\n",
    "\tfor token in text.split():\n",
    "\n",
    "\t\t#if it's not one of those filler words\n",
    "\t\tif token not in stop_words:\n",
    "\n",
    "\t\t\t#if the user decides to stem the words\n",
    "\t\t\tif stem:\n",
    "\n",
    "\t\t\t\t#creates a stemmer object\n",
    "\t\t\t\tstemmer = snowballStemmer('english')\n",
    "\n",
    "\t\t\t\t#stems the token\n",
    "\t\t\t\ttoken = stemmer.stem(token)\n",
    "\n",
    "\t\t\t#put the token into the list\n",
    "\t\t\ttokens.append(token)\n",
    "\n",
    "\t#joins the tokens back into a sentence\n",
    "\treturn \" \".join(tokens)"
   ]
  },
  {
   "cell_type": "code",
   "execution_count": 253,
   "id": "dffc5e63",
   "metadata": {},
   "outputs": [],
   "source": [
    "# Word embedding with pre padding \n",
    "def one_hot_encoded(text,vocab_size=5000, max_length = 40):\n",
    "    hot_encoded = one_hot(text,vocab_size)\n",
    "    return hot_encoded"
   ]
  },
  {
   "cell_type": "code",
   "execution_count": 254,
   "id": "01b380cc",
   "metadata": {},
   "outputs": [],
   "source": [
    "#Now im going to convert the words into vectors using one hot encoding\n",
    "def word_embedding(text):\n",
    "\n",
    "\t#from the previous function, get the preprocessed text\n",
    "\tpreprocessed_text = preprocessing_filter(text)\n",
    "\n",
    "\t#hot encode the remade sentence into vectors\n",
    "\treturn one_hot_encoded(preprocessed_text)"
   ]
  },
  {
   "cell_type": "code",
   "execution_count": 255,
   "id": "30b96f03",
   "metadata": {},
   "outputs": [
    {
     "data": {
      "text/html": [
       "<pre style=\"white-space:pre;overflow-x:auto;line-height:normal;font-family:Menlo,'DejaVu Sans Mono',consolas,'Courier New',monospace\"><span style=\"font-weight: bold\">Model: \"sequential_11\"</span>\n",
       "</pre>\n"
      ],
      "text/plain": [
       "\u001b[1mModel: \"sequential_11\"\u001b[0m\n"
      ]
     },
     "metadata": {},
     "output_type": "display_data"
    },
    {
     "data": {
      "text/html": [
       "<pre style=\"white-space:pre;overflow-x:auto;line-height:normal;font-family:Menlo,'DejaVu Sans Mono',consolas,'Courier New',monospace\">┏━━━━━━━━━━━━━━━━━━━━━━━━━━━━━━━━━┳━━━━━━━━━━━━━━━━━━━━━━━━┳━━━━━━━━━━━━━━━┓\n",
       "┃<span style=\"font-weight: bold\"> Layer (type)                    </span>┃<span style=\"font-weight: bold\"> Output Shape           </span>┃<span style=\"font-weight: bold\">       Param # </span>┃\n",
       "┡━━━━━━━━━━━━━━━━━━━━━━━━━━━━━━━━━╇━━━━━━━━━━━━━━━━━━━━━━━━╇━━━━━━━━━━━━━━━┩\n",
       "│ embedding_11 (<span style=\"color: #0087ff; text-decoration-color: #0087ff\">Embedding</span>)        │ ?                      │   <span style=\"color: #00af00; text-decoration-color: #00af00\">0</span> (unbuilt) │\n",
       "├─────────────────────────────────┼────────────────────────┼───────────────┤\n",
       "│ lstm_22 (<span style=\"color: #0087ff; text-decoration-color: #0087ff\">LSTM</span>)                  │ ?                      │   <span style=\"color: #00af00; text-decoration-color: #00af00\">0</span> (unbuilt) │\n",
       "├─────────────────────────────────┼────────────────────────┼───────────────┤\n",
       "│ dropout_11 (<span style=\"color: #0087ff; text-decoration-color: #0087ff\">Dropout</span>)            │ ?                      │             <span style=\"color: #00af00; text-decoration-color: #00af00\">0</span> │\n",
       "├─────────────────────────────────┼────────────────────────┼───────────────┤\n",
       "│ lstm_23 (<span style=\"color: #0087ff; text-decoration-color: #0087ff\">LSTM</span>)                  │ ?                      │   <span style=\"color: #00af00; text-decoration-color: #00af00\">0</span> (unbuilt) │\n",
       "├─────────────────────────────────┼────────────────────────┼───────────────┤\n",
       "│ dense_11 (<span style=\"color: #0087ff; text-decoration-color: #0087ff\">Dense</span>)                │ ?                      │   <span style=\"color: #00af00; text-decoration-color: #00af00\">0</span> (unbuilt) │\n",
       "└─────────────────────────────────┴────────────────────────┴───────────────┘\n",
       "</pre>\n"
      ],
      "text/plain": [
       "┏━━━━━━━━━━━━━━━━━━━━━━━━━━━━━━━━━┳━━━━━━━━━━━━━━━━━━━━━━━━┳━━━━━━━━━━━━━━━┓\n",
       "┃\u001b[1m \u001b[0m\u001b[1mLayer (type)                   \u001b[0m\u001b[1m \u001b[0m┃\u001b[1m \u001b[0m\u001b[1mOutput Shape          \u001b[0m\u001b[1m \u001b[0m┃\u001b[1m \u001b[0m\u001b[1m      Param #\u001b[0m\u001b[1m \u001b[0m┃\n",
       "┡━━━━━━━━━━━━━━━━━━━━━━━━━━━━━━━━━╇━━━━━━━━━━━━━━━━━━━━━━━━╇━━━━━━━━━━━━━━━┩\n",
       "│ embedding_11 (\u001b[38;5;33mEmbedding\u001b[0m)        │ ?                      │   \u001b[38;5;34m0\u001b[0m (unbuilt) │\n",
       "├─────────────────────────────────┼────────────────────────┼───────────────┤\n",
       "│ lstm_22 (\u001b[38;5;33mLSTM\u001b[0m)                  │ ?                      │   \u001b[38;5;34m0\u001b[0m (unbuilt) │\n",
       "├─────────────────────────────────┼────────────────────────┼───────────────┤\n",
       "│ dropout_11 (\u001b[38;5;33mDropout\u001b[0m)            │ ?                      │             \u001b[38;5;34m0\u001b[0m │\n",
       "├─────────────────────────────────┼────────────────────────┼───────────────┤\n",
       "│ lstm_23 (\u001b[38;5;33mLSTM\u001b[0m)                  │ ?                      │   \u001b[38;5;34m0\u001b[0m (unbuilt) │\n",
       "├─────────────────────────────────┼────────────────────────┼───────────────┤\n",
       "│ dense_11 (\u001b[38;5;33mDense\u001b[0m)                │ ?                      │   \u001b[38;5;34m0\u001b[0m (unbuilt) │\n",
       "└─────────────────────────────────┴────────────────────────┴───────────────┘\n"
      ]
     },
     "metadata": {},
     "output_type": "display_data"
    },
    {
     "data": {
      "text/html": [
       "<pre style=\"white-space:pre;overflow-x:auto;line-height:normal;font-family:Menlo,'DejaVu Sans Mono',consolas,'Courier New',monospace\"><span style=\"font-weight: bold\"> Total params: </span><span style=\"color: #00af00; text-decoration-color: #00af00\">0</span> (0.00 B)\n",
       "</pre>\n"
      ],
      "text/plain": [
       "\u001b[1m Total params: \u001b[0m\u001b[38;5;34m0\u001b[0m (0.00 B)\n"
      ]
     },
     "metadata": {},
     "output_type": "display_data"
    },
    {
     "data": {
      "text/html": [
       "<pre style=\"white-space:pre;overflow-x:auto;line-height:normal;font-family:Menlo,'DejaVu Sans Mono',consolas,'Courier New',monospace\"><span style=\"font-weight: bold\"> Trainable params: </span><span style=\"color: #00af00; text-decoration-color: #00af00\">0</span> (0.00 B)\n",
       "</pre>\n"
      ],
      "text/plain": [
       "\u001b[1m Trainable params: \u001b[0m\u001b[38;5;34m0\u001b[0m (0.00 B)\n"
      ]
     },
     "metadata": {},
     "output_type": "display_data"
    },
    {
     "data": {
      "text/html": [
       "<pre style=\"white-space:pre;overflow-x:auto;line-height:normal;font-family:Menlo,'DejaVu Sans Mono',consolas,'Courier New',monospace\"><span style=\"font-weight: bold\"> Non-trainable params: </span><span style=\"color: #00af00; text-decoration-color: #00af00\">0</span> (0.00 B)\n",
       "</pre>\n"
      ],
      "text/plain": [
       "\u001b[1m Non-trainable params: \u001b[0m\u001b[38;5;34m0\u001b[0m (0.00 B)\n"
      ]
     },
     "metadata": {},
     "output_type": "display_data"
    },
    {
     "name": "stdout",
     "output_type": "stream",
     "text": [
      "None\n"
     ]
    }
   ],
   "source": [
    "#each word is a vector pointing in a 40 dimensional space\n",
    "embedded_features = 40\n",
    "\n",
    "#define the model\n",
    "model = Sequential()\n",
    "\n",
    "#5000 size vocabulary, vector dimension of each word, input length max of 42 words\n",
    "model.add(Embedding(5000, embedded_features, input_length=max_length))\n",
    "\n",
    "#LSTM layer with 100 neurons, returns sequence to next layer\n",
    "model.add(LSTM(100, return_sequences=True))\n",
    "\n",
    "#zeroes out 30% of the neurons to prevent overfitting(knowing the dataset too well)\n",
    "model.add(Dropout(0.3))\n",
    "\n",
    "#second LSTM layer and don't have it return sequences because it's the last LSTM layer\n",
    "model.add(LSTM(100))\n",
    "\n",
    "#last layer with sigmoid activation function for binary classification 0-1\n",
    "model.add(Dense(1, activation='sigmoid'))\n",
    "\n",
    "#compile the model and use binary crossentropy loss function since it's binary classification\n",
    "#how it will measure weighs and biases is through adam optimizer\n",
    "#and track accuracy as a metric. EX: True value[0,0,0,0] Predicted value[0,0,0,1] accuracy is 75%\n",
    "model.compile(loss='binary_crossentropy', optimizer='adam', metrics=['accuracy'])\n",
    "\n",
    "\n",
    "print(model.summary())\n"
   ]
  },
  {
   "cell_type": "code",
   "execution_count": 256,
   "id": "de2c908e",
   "metadata": {},
   "outputs": [],
   "source": [
    "#Hot encode the titles however not all of them will be the same list size\n",
    "one_hot_encoded_title = df['title'].apply(lambda x : word_embedding(x)).values"
   ]
  },
  {
   "cell_type": "code",
   "execution_count": 257,
   "id": "81e520ad",
   "metadata": {},
   "outputs": [],
   "source": [
    "#now in order  of have the same length, we will pad the sequences with zeros at the beginning\n",
    "#previously we hot encoded text with 40 dimensional vectors\n",
    "#now we are hot encoding the titles with 42 words for max lengnth\n",
    "#pre padding meaning putting the 0s at the beginning\n",
    "padded_encoded_title = pad_sequences(one_hot_encoded_title, maxlen=max_length,padding='pre')"
   ]
  },
  {
   "cell_type": "code",
   "execution_count": 258,
   "id": "fb10947b",
   "metadata": {},
   "outputs": [
    {
     "name": "stdout",
     "output_type": "stream",
     "text": [
      "X shape: (44898, 42)\n",
      "Y shape: (44898,)\n"
     ]
    }
   ],
   "source": [
    "#features\n",
    "X = padded_encoded_title\n",
    "\n",
    "#labels\n",
    "y = df['status'].values\n",
    "\n",
    "print(f'X shape: {X.shape}')\n",
    "print(f'Y shape: {y.shape}')"
   ]
  },
  {
   "cell_type": "code",
   "execution_count": 259,
   "id": "7bc1104e",
   "metadata": {},
   "outputs": [
    {
     "name": "stdout",
     "output_type": "stream",
     "text": [
      "X train shape (33673, 42)\n",
      "X test shape (11225, 42)\n",
      "y train shape (33673,)\n",
      "y test shape (11225,)\n"
     ]
    }
   ],
   "source": [
    "X_train, X_test, y_train, y_test = train_test_split(X, y, random_state=42)\n",
    "print('X train shape {}'.format(X_train.shape))\n",
    "print('X test shape {}'.format(X_test.shape))\n",
    "print('y train shape {}'.format(y_train.shape))\n",
    "print('y test shape {}'.format(y_test.shape))"
   ]
  },
  {
   "cell_type": "code",
   "execution_count": 260,
   "id": "a83b670f",
   "metadata": {},
   "outputs": [
    {
     "name": "stdout",
     "output_type": "stream",
     "text": [
      "Epoch 1/15\n",
      "\u001b[1m525/527\u001b[0m \u001b[32m━━━━━━━━━━━━━━━━━━━\u001b[0m\u001b[37m━\u001b[0m \u001b[1m0s\u001b[0m 20ms/step - accuracy: 0.9208 - loss: 0.1883\n",
      "Epoch 1: val_accuracy improved from None to 0.98022, saving model to best_model.h5\n"
     ]
    },
    {
     "name": "stderr",
     "output_type": "stream",
     "text": [
      "WARNING:absl:You are saving your model as an HDF5 file via `model.save()` or `keras.saving.save_model(model)`. This file format is considered legacy. We recommend using instead the native Keras format, e.g. `model.save('my_model.keras')` or `keras.saving.save_model(model, 'my_model.keras')`. \n"
     ]
    },
    {
     "name": "stdout",
     "output_type": "stream",
     "text": [
      "\u001b[1m527/527\u001b[0m \u001b[32m━━━━━━━━━━━━━━━━━━━━\u001b[0m\u001b[37m\u001b[0m \u001b[1m13s\u001b[0m 23ms/step - accuracy: 0.9620 - loss: 0.1022 - val_accuracy: 0.9802 - val_loss: 0.0573\n",
      "Epoch 2/15\n",
      "\u001b[1m525/527\u001b[0m \u001b[32m━━━━━━━━━━━━━━━━━━━\u001b[0m\u001b[37m━\u001b[0m \u001b[1m0s\u001b[0m 20ms/step - accuracy: 0.9898 - loss: 0.0348\n",
      "Epoch 2: val_accuracy improved from 0.98022 to 0.98334, saving model to best_model.h5\n"
     ]
    },
    {
     "name": "stderr",
     "output_type": "stream",
     "text": [
      "WARNING:absl:You are saving your model as an HDF5 file via `model.save()` or `keras.saving.save_model(model)`. This file format is considered legacy. We recommend using instead the native Keras format, e.g. `model.save('my_model.keras')` or `keras.saving.save_model(model, 'my_model.keras')`. \n"
     ]
    },
    {
     "name": "stdout",
     "output_type": "stream",
     "text": [
      "\u001b[1m527/527\u001b[0m \u001b[32m━━━━━━━━━━━━━━━━━━━━\u001b[0m\u001b[37m\u001b[0m \u001b[1m12s\u001b[0m 22ms/step - accuracy: 0.9895 - loss: 0.0334 - val_accuracy: 0.9833 - val_loss: 0.0532\n",
      "Epoch 3/15\n",
      "\u001b[1m526/527\u001b[0m \u001b[32m━━━━━━━━━━━━━━━━━━━\u001b[0m\u001b[37m━\u001b[0m \u001b[1m0s\u001b[0m 19ms/step - accuracy: 0.9947 - loss: 0.0170\n",
      "Epoch 3: val_accuracy did not improve from 0.98334\n",
      "\u001b[1m527/527\u001b[0m \u001b[32m━━━━━━━━━━━━━━━━━━━━\u001b[0m\u001b[37m\u001b[0m \u001b[1m12s\u001b[0m 22ms/step - accuracy: 0.9940 - loss: 0.0189 - val_accuracy: 0.9821 - val_loss: 0.0699\n",
      "Epoch 4/15\n",
      "\u001b[1m525/527\u001b[0m \u001b[32m━━━━━━━━━━━━━━━━━━━\u001b[0m\u001b[37m━\u001b[0m \u001b[1m0s\u001b[0m 20ms/step - accuracy: 0.9933 - loss: 0.0256\n",
      "Epoch 4: val_accuracy did not improve from 0.98334\n",
      "\u001b[1m527/527\u001b[0m \u001b[32m━━━━━━━━━━━━━━━━━━━━\u001b[0m\u001b[37m\u001b[0m \u001b[1m12s\u001b[0m 22ms/step - accuracy: 0.9931 - loss: 0.0240 - val_accuracy: 0.9830 - val_loss: 0.0654\n",
      "Epoch 5/15\n",
      "\u001b[1m524/527\u001b[0m \u001b[32m━━━━━━━━━━━━━━━━━━━\u001b[0m\u001b[37m━\u001b[0m \u001b[1m0s\u001b[0m 20ms/step - accuracy: 0.9975 - loss: 0.0080\n",
      "Epoch 5: val_accuracy did not improve from 0.98334\n",
      "\u001b[1m527/527\u001b[0m \u001b[32m━━━━━━━━━━━━━━━━━━━━\u001b[0m\u001b[37m\u001b[0m \u001b[1m12s\u001b[0m 23ms/step - accuracy: 0.9967 - loss: 0.0103 - val_accuracy: 0.9816 - val_loss: 0.0737\n",
      "Epoch 5: early stopping\n"
     ]
    },
    {
     "data": {
      "text/plain": [
       "<keras.src.callbacks.history.History at 0x16619bbb0>"
      ]
     },
     "execution_count": 260,
     "metadata": {},
     "output_type": "execute_result"
    }
   ],
   "source": [
    "#monitor: monitors how bad the model is doing on validation loss\n",
    "#patience: waits 3 epochs before stopping if no improvement\n",
    "#verbose: prints out messages\n",
    "early_stopping = EarlyStopping(monitor='val_loss', patience=3, verbose=1)\n",
    "\n",
    "#saves the best model only according to validation accuracy\n",
    "#even if you get ovefitting you can still keep the best model\n",
    "model_checkpoint = ModelCheckpoint('best_model.h5', monitor='val_accuracy', save_best_only=True, verbose=1)\n",
    "\n",
    "#so it will train each row and at the end of every epoch it will check using all\n",
    "#the test data to see how well it did. \n",
    "\n",
    "#once it runs thourgh all of them it will chose the model that did the best on validation data\n",
    "# and save it as best_model.h5\n",
    "model.fit(X_train, y_train, validation_data=(X_test, y_test), epochs=15, batch_size=64, callbacks=[early_stopping, model_checkpoint])\n"
   ]
  },
  {
   "cell_type": "code",
   "execution_count": 262,
   "id": "c6857d08",
   "metadata": {},
   "outputs": [],
   "source": [
    "def best_threshold_value(thresholds:list, X_test):\n",
    "\taccuracies = []\n",
    "\tfor thresh in thresholds:\n",
    "\t\typred = model.predict(X_test)\n",
    "\t\typred = (ypred > thresh).astype(int)\n",
    "\t\taccuracies.append(accuracy_score(y_test, ypred))\n",
    "\treturn pd.DataFrame({\n",
    "\t\t'Threshold': thresholds,\n",
    "\t\t'Accuracy': accuracies\n",
    "\t})\n"
   ]
  },
  {
   "cell_type": "code",
   "execution_count": 236,
   "id": "5fad6ee6",
   "metadata": {},
   "outputs": [
    {
     "name": "stdout",
     "output_type": "stream",
     "text": [
      "\u001b[1m351/351\u001b[0m \u001b[32m━━━━━━━━━━━━━━━━━━━━\u001b[0m\u001b[37m\u001b[0m \u001b[1m2s\u001b[0m 5ms/step\n",
      "\u001b[1m351/351\u001b[0m \u001b[32m━━━━━━━━━━━━━━━━━━━━\u001b[0m\u001b[37m\u001b[0m \u001b[1m2s\u001b[0m 5ms/step\n",
      "\u001b[1m351/351\u001b[0m \u001b[32m━━━━━━━━━━━━━━━━━━━━\u001b[0m\u001b[37m\u001b[0m \u001b[1m2s\u001b[0m 5ms/step\n",
      "\u001b[1m351/351\u001b[0m \u001b[32m━━━━━━━━━━━━━━━━━━━━\u001b[0m\u001b[37m\u001b[0m \u001b[1m2s\u001b[0m 5ms/step\n",
      "\u001b[1m351/351\u001b[0m \u001b[32m━━━━━━━━━━━━━━━━━━━━\u001b[0m\u001b[37m\u001b[0m \u001b[1m2s\u001b[0m 5ms/step\n"
     ]
    },
    {
     "data": {
      "text/html": [
       "<div>\n",
       "<style scoped>\n",
       "    .dataframe tbody tr th:only-of-type {\n",
       "        vertical-align: middle;\n",
       "    }\n",
       "\n",
       "    .dataframe tbody tr th {\n",
       "        vertical-align: top;\n",
       "    }\n",
       "\n",
       "    .dataframe thead th {\n",
       "        text-align: right;\n",
       "    }\n",
       "</style>\n",
       "<table border=\"1\" class=\"dataframe\">\n",
       "  <thead>\n",
       "    <tr style=\"text-align: right;\">\n",
       "      <th></th>\n",
       "      <th>Threshold</th>\n",
       "      <th>Accuracy</th>\n",
       "    </tr>\n",
       "  </thead>\n",
       "  <tbody>\n",
       "    <tr>\n",
       "      <th>0</th>\n",
       "      <td>0.4</td>\n",
       "      <td>0.982361</td>\n",
       "    </tr>\n",
       "    <tr>\n",
       "      <th>1</th>\n",
       "      <td>0.5</td>\n",
       "      <td>0.982361</td>\n",
       "    </tr>\n",
       "    <tr>\n",
       "      <th>2</th>\n",
       "      <td>0.6</td>\n",
       "      <td>0.982183</td>\n",
       "    </tr>\n",
       "    <tr>\n",
       "      <th>3</th>\n",
       "      <td>0.7</td>\n",
       "      <td>0.982094</td>\n",
       "    </tr>\n",
       "    <tr>\n",
       "      <th>4</th>\n",
       "      <td>0.8</td>\n",
       "      <td>0.982183</td>\n",
       "    </tr>\n",
       "  </tbody>\n",
       "</table>\n",
       "</div>"
      ],
      "text/plain": [
       "   Threshold  Accuracy\n",
       "0        0.4  0.982361\n",
       "1        0.5  0.982361\n",
       "2        0.6  0.982183\n",
       "3        0.7  0.982094\n",
       "4        0.8  0.982183"
      ]
     },
     "execution_count": 236,
     "metadata": {},
     "output_type": "execute_result"
    }
   ],
   "source": [
    "best_threshold_value([0.4, 0.5, 0.6, 0.7, 0.8], X_test)"
   ]
  },
  {
   "cell_type": "code",
   "execution_count": 237,
   "id": "4ab1d779",
   "metadata": {},
   "outputs": [
    {
     "name": "stdout",
     "output_type": "stream",
     "text": [
      "\u001b[1m351/351\u001b[0m \u001b[32m━━━━━━━━━━━━━━━━━━━━\u001b[0m\u001b[37m\u001b[0m \u001b[1m2s\u001b[0m 5ms/step\n"
     ]
    }
   ],
   "source": [
    "y_pred = model.predict(X_test)\n",
    "y_pred = (y_pred > 0.6).astype(int)"
   ]
  },
  {
   "cell_type": "code",
   "execution_count": 238,
   "id": "7e4fc6fa",
   "metadata": {},
   "outputs": [
    {
     "name": "stdout",
     "output_type": "stream",
     "text": [
      "[[5762  115]\n",
      " [  85 5263]]\n",
      "              precision    recall  f1-score   support\n",
      "\n",
      "           0       0.98      0.99      0.98      5847\n",
      "           1       0.98      0.98      0.98      5378\n",
      "\n",
      "    accuracy                           0.98     11225\n",
      "   macro avg       0.98      0.98      0.98     11225\n",
      "weighted avg       0.98      0.98      0.98     11225\n",
      "\n"
     ]
    }
   ],
   "source": [
    "print(confusion_matrix(y_test, y_pred))\n",
    "print(classification_report(y_pred, y_test))\n",
    "\n",
    "#precision = TP / (TP + FP)\n",
    "#recall = TP / (TP + FN)\n",
    "#F1 is saying whether it is good at both precision and recall\n",
    "#support is how many actual instances of that class there are"
   ]
  },
  {
   "cell_type": "code",
   "execution_count": 239,
   "id": "4e6dc47f",
   "metadata": {},
   "outputs": [],
   "source": [
    "# input generator \n",
    " \n",
    "def prediction_input_processing(text):\n",
    "    preprocessed_text = preprocessing_filter(text)\n",
    "    encoded_text = word_embedding(preprocessed_text)\n",
    "    padded_encoded_text = pad_sequences([encoded_text], maxlen=max_length, padding='pre')\n",
    "    \n",
    "    prediction = model.predict(padded_encoded_text)\n",
    "    prediction_label = 'No, It is not fake' if prediction[0][0] < 0.4 else 'Yes, this News is fake'\n",
    "\t\n",
    "    return prediction_label"
   ]
  },
  {
   "cell_type": "code",
   "execution_count": 240,
   "id": "e0e19b24",
   "metadata": {},
   "outputs": [
    {
     "name": "stdout",
     "output_type": "stream",
     "text": [
      "\u001b[1m1/1\u001b[0m \u001b[32m━━━━━━━━━━━━━━━━━━━━\u001b[0m\u001b[37m\u001b[0m \u001b[1m0s\u001b[0m 13ms/step\n"
     ]
    },
    {
     "data": {
      "text/plain": [
       "'Yes, this News is fake'"
      ]
     },
     "execution_count": 240,
     "metadata": {},
     "output_type": "execute_result"
    }
   ],
   "source": [
    "prediction_input_processing(\"Aggies Add More Wins on Day Two at SJSU Fall Tournament\")"
   ]
  }
 ],
 "metadata": {
  "kernelspec": {
   "display_name": "tfodj",
   "language": "python",
   "name": "tfodj"
  },
  "language_info": {
   "codemirror_mode": {
    "name": "ipython",
    "version": 3
   },
   "file_extension": ".py",
   "mimetype": "text/x-python",
   "name": "python",
   "nbconvert_exporter": "python",
   "pygments_lexer": "ipython3",
   "version": "3.13.5"
  }
 },
 "nbformat": 4,
 "nbformat_minor": 5
}
