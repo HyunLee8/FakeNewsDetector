{
 "cells": [
  {
   "cell_type": "markdown",
   "id": "f461397c",
   "metadata": {},
   "source": [
    "## USING RNNs and LSTM to detect fake News"
   ]
  },
  {
   "cell_type": "code",
   "execution_count": 100,
   "id": "76ee71ea",
   "metadata": {},
   "outputs": [],
   "source": [
    "import warnings\n",
    "warnings.filterwarnings('ignore')\n",
    "\n",
    "import tensorflow as tf\n",
    "from tensorflow.keras.models import Sequential\n",
    "from tensorflow.keras.layers import Embedding, Dense, LSTM\n",
    "from tensorflow.keras.callbacks import EarlyStopping, ModelCheckpoint\n",
    "from tensorflow.keras.preprocessing.text import one_hot\n",
    "from tensorflow.keras.preprocessing.sequence import pad_sequences\n",
    "from tensorflow.keras.layers import Dropout\n",
    "\n",
    "import pandas as pd\n",
    "import numpy as np\n",
    "import matplotlib.pyplot as plt\n",
    "from sklearn.preprocessing import LabelEncoder\n",
    "import nltk\n",
    "from nltk.stem.snowball import SnowballStemmer\n",
    "import regex as re\n",
    "from nltk.tokenize import sent_tokenize\n",
    "from sklearn.metrics import accuracy_score, confusion_matrix, classification_report\n",
    "from sklearn.model_selection import train_test_split\n",
    "from nltk.corpus import stopwords\n"
   ]
  },
  {
   "cell_type": "code",
   "execution_count": 101,
   "id": "62adc7db",
   "metadata": {},
   "outputs": [
    {
     "name": "stderr",
     "output_type": "stream",
     "text": [
      "[nltk_data] Error loading stopwords: <urlopen error [SSL:\n",
      "[nltk_data]     CERTIFICATE_VERIFY_FAILED] certificate verify failed:\n",
      "[nltk_data]     unable to get local issuer certificate (_ssl.c:1028)>\n",
      "[nltk_data] Error loading punkt: <urlopen error [SSL:\n",
      "[nltk_data]     CERTIFICATE_VERIFY_FAILED] certificate verify failed:\n",
      "[nltk_data]     unable to get local issuer certificate (_ssl.c:1028)>\n",
      "[nltk_data] Error loading wordnet: <urlopen error [SSL:\n",
      "[nltk_data]     CERTIFICATE_VERIFY_FAILED] certificate verify failed:\n",
      "[nltk_data]     unable to get local issuer certificate (_ssl.c:1028)>\n"
     ]
    }
   ],
   "source": [
    "#gets filler words like \"the\", \"is\", \"in\". Meant to clean up text data\n",
    "nltk.download('stopwords')\n",
    "\n",
    "#gets pretrained model that splits up sentences into words or paragraphs into sentences\n",
    "nltk.download('punkt')\n",
    "\n",
    "#can group words into meaning synonyms, antonyms, Hypernyms, hyponyms, etc.\n",
    "nltk.download('wordnet')\n",
    "\n",
    "#putting stop words into a variable for later use\n",
    "stop_words = stopwords.words('english')"
   ]
  },
  {
   "cell_type": "code",
   "execution_count": 102,
   "id": "7b7fa58f",
   "metadata": {},
   "outputs": [],
   "source": [
    "df_fake = pd.read_csv('Fake.csv')\n",
    "df_true = pd.read_csv('True.csv')"
   ]
  },
  {
   "cell_type": "code",
   "execution_count": 103,
   "id": "7980cb2e",
   "metadata": {},
   "outputs": [
    {
     "data": {
      "text/html": [
       "<div>\n",
       "<style scoped>\n",
       "    .dataframe tbody tr th:only-of-type {\n",
       "        vertical-align: middle;\n",
       "    }\n",
       "\n",
       "    .dataframe tbody tr th {\n",
       "        vertical-align: top;\n",
       "    }\n",
       "\n",
       "    .dataframe thead th {\n",
       "        text-align: right;\n",
       "    }\n",
       "</style>\n",
       "<table border=\"1\" class=\"dataframe\">\n",
       "  <thead>\n",
       "    <tr style=\"text-align: right;\">\n",
       "      <th></th>\n",
       "      <th>title</th>\n",
       "      <th>text</th>\n",
       "      <th>subject</th>\n",
       "      <th>date</th>\n",
       "    </tr>\n",
       "  </thead>\n",
       "  <tbody>\n",
       "    <tr>\n",
       "      <th>0</th>\n",
       "      <td>As U.S. budget fight looms, Republicans flip their fiscal script</td>\n",
       "      <td>WASHINGTON (Reuters) - The head of a conservative Republican faction in the U.S. Congress, who voted this month for a huge expansion of the national debt to pay for tax cuts, called himself a “fiscal conservative” on Sunday and urged budget restraint in 2018. In keeping with a sharp pivot under way among Republicans, U.S. Representative Mark Meadows, speaking on CBS’ “Face the Nation,” drew a hard line on federal spending, which lawmakers are bracing to do battle over in January. When they r...</td>\n",
       "      <td>politicsNews</td>\n",
       "      <td>December 31, 2017</td>\n",
       "    </tr>\n",
       "    <tr>\n",
       "      <th>1</th>\n",
       "      <td>U.S. military to accept transgender recruits on Monday: Pentagon</td>\n",
       "      <td>WASHINGTON (Reuters) - Transgender people will be allowed for the first time to enlist in the U.S. military starting on Monday as ordered by federal courts, the Pentagon said on Friday, after President Donald Trump’s administration decided not to appeal rulings that blocked his transgender ban. Two federal appeals courts, one in Washington and one in Virginia, last week rejected the administration’s request to put on hold orders by lower court judges requiring the military to begin accepting...</td>\n",
       "      <td>politicsNews</td>\n",
       "      <td>December 29, 2017</td>\n",
       "    </tr>\n",
       "    <tr>\n",
       "      <th>2</th>\n",
       "      <td>Senior U.S. Republican senator: 'Let Mr. Mueller do his job'</td>\n",
       "      <td>WASHINGTON (Reuters) - The special counsel investigation of links between Russia and President Trump’s 2016 election campaign should continue without interference in 2018, despite calls from some Trump administration allies and Republican lawmakers to shut it down, a prominent Republican senator said on Sunday. Lindsey Graham, who serves on the Senate armed forces and judiciary committees, said Department of Justice Special Counsel Robert Mueller needs to carry on with his Russia investigati...</td>\n",
       "      <td>politicsNews</td>\n",
       "      <td>December 31, 2017</td>\n",
       "    </tr>\n",
       "    <tr>\n",
       "      <th>3</th>\n",
       "      <td>FBI Russia probe helped by Australian diplomat tip-off: NYT</td>\n",
       "      <td>WASHINGTON (Reuters) - Trump campaign adviser George Papadopoulos told an Australian diplomat in May 2016 that Russia had political dirt on Democratic presidential candidate Hillary Clinton, the New York Times reported on Saturday. The conversation between Papadopoulos and the diplomat, Alexander Downer, in London was a driving factor behind the FBI’s decision to open a counter-intelligence investigation of Moscow’s contacts with the Trump campaign, the Times reported. Two months after the m...</td>\n",
       "      <td>politicsNews</td>\n",
       "      <td>December 30, 2017</td>\n",
       "    </tr>\n",
       "    <tr>\n",
       "      <th>4</th>\n",
       "      <td>Trump wants Postal Service to charge 'much more' for Amazon shipments</td>\n",
       "      <td>SEATTLE/WASHINGTON (Reuters) - President Donald Trump called on the U.S. Postal Service on Friday to charge “much more” to ship packages for Amazon (AMZN.O), picking another fight with an online retail giant he has criticized in the past.     “Why is the United States Post Office, which is losing many billions of dollars a year, while charging Amazon and others so little to deliver their packages, making Amazon richer and the Post Office dumber and poorer? Should be charging MUCH MORE!” Trum...</td>\n",
       "      <td>politicsNews</td>\n",
       "      <td>December 29, 2017</td>\n",
       "    </tr>\n",
       "  </tbody>\n",
       "</table>\n",
       "</div>"
      ],
      "text/plain": [
       "                                                                   title  \\\n",
       "0       As U.S. budget fight looms, Republicans flip their fiscal script   \n",
       "1       U.S. military to accept transgender recruits on Monday: Pentagon   \n",
       "2           Senior U.S. Republican senator: 'Let Mr. Mueller do his job'   \n",
       "3            FBI Russia probe helped by Australian diplomat tip-off: NYT   \n",
       "4  Trump wants Postal Service to charge 'much more' for Amazon shipments   \n",
       "\n",
       "                                                                                                                                                                                                                                                                                                                                                                                                                                                                                                                  text  \\\n",
       "0  WASHINGTON (Reuters) - The head of a conservative Republican faction in the U.S. Congress, who voted this month for a huge expansion of the national debt to pay for tax cuts, called himself a “fiscal conservative” on Sunday and urged budget restraint in 2018. In keeping with a sharp pivot under way among Republicans, U.S. Representative Mark Meadows, speaking on CBS’ “Face the Nation,” drew a hard line on federal spending, which lawmakers are bracing to do battle over in January. When they r...   \n",
       "1  WASHINGTON (Reuters) - Transgender people will be allowed for the first time to enlist in the U.S. military starting on Monday as ordered by federal courts, the Pentagon said on Friday, after President Donald Trump’s administration decided not to appeal rulings that blocked his transgender ban. Two federal appeals courts, one in Washington and one in Virginia, last week rejected the administration’s request to put on hold orders by lower court judges requiring the military to begin accepting...   \n",
       "2  WASHINGTON (Reuters) - The special counsel investigation of links between Russia and President Trump’s 2016 election campaign should continue without interference in 2018, despite calls from some Trump administration allies and Republican lawmakers to shut it down, a prominent Republican senator said on Sunday. Lindsey Graham, who serves on the Senate armed forces and judiciary committees, said Department of Justice Special Counsel Robert Mueller needs to carry on with his Russia investigati...   \n",
       "3  WASHINGTON (Reuters) - Trump campaign adviser George Papadopoulos told an Australian diplomat in May 2016 that Russia had political dirt on Democratic presidential candidate Hillary Clinton, the New York Times reported on Saturday. The conversation between Papadopoulos and the diplomat, Alexander Downer, in London was a driving factor behind the FBI’s decision to open a counter-intelligence investigation of Moscow’s contacts with the Trump campaign, the Times reported. Two months after the m...   \n",
       "4  SEATTLE/WASHINGTON (Reuters) - President Donald Trump called on the U.S. Postal Service on Friday to charge “much more” to ship packages for Amazon (AMZN.O), picking another fight with an online retail giant he has criticized in the past.     “Why is the United States Post Office, which is losing many billions of dollars a year, while charging Amazon and others so little to deliver their packages, making Amazon richer and the Post Office dumber and poorer? Should be charging MUCH MORE!” Trum...   \n",
       "\n",
       "        subject                date  \n",
       "0  politicsNews  December 31, 2017   \n",
       "1  politicsNews  December 29, 2017   \n",
       "2  politicsNews  December 31, 2017   \n",
       "3  politicsNews  December 30, 2017   \n",
       "4  politicsNews  December 29, 2017   "
      ]
     },
     "execution_count": 103,
     "metadata": {},
     "output_type": "execute_result"
    }
   ],
   "source": [
    "df_true.head()"
   ]
  },
  {
   "cell_type": "code",
   "execution_count": 104,
   "id": "15236b79",
   "metadata": {},
   "outputs": [
    {
     "data": {
      "text/html": [
       "<div>\n",
       "<style scoped>\n",
       "    .dataframe tbody tr th:only-of-type {\n",
       "        vertical-align: middle;\n",
       "    }\n",
       "\n",
       "    .dataframe tbody tr th {\n",
       "        vertical-align: top;\n",
       "    }\n",
       "\n",
       "    .dataframe thead th {\n",
       "        text-align: right;\n",
       "    }\n",
       "</style>\n",
       "<table border=\"1\" class=\"dataframe\">\n",
       "  <thead>\n",
       "    <tr style=\"text-align: right;\">\n",
       "      <th></th>\n",
       "      <th>title</th>\n",
       "      <th>text</th>\n",
       "      <th>subject</th>\n",
       "      <th>date</th>\n",
       "    </tr>\n",
       "  </thead>\n",
       "  <tbody>\n",
       "    <tr>\n",
       "      <th>0</th>\n",
       "      <td>Donald Trump Sends Out Embarrassing New Year’s Eve Message; This is Disturbing</td>\n",
       "      <td>Donald Trump just couldn t wish all Americans a Happy New Year and leave it at that. Instead, he had to give a shout out to his enemies, haters and  the very dishonest fake news media.  The former reality show star had just one job to do and he couldn t do it. As our Country rapidly grows stronger and smarter, I want to wish all of my friends, supporters, enemies, haters, and even the very dishonest Fake News Media, a Happy and Healthy New Year,  President Angry Pants tweeted.  2018 will be ...</td>\n",
       "      <td>News</td>\n",
       "      <td>December 31, 2017</td>\n",
       "    </tr>\n",
       "    <tr>\n",
       "      <th>1</th>\n",
       "      <td>Drunk Bragging Trump Staffer Started Russian Collusion Investigation</td>\n",
       "      <td>House Intelligence Committee Chairman Devin Nunes is going to have a bad day. He s been under the assumption, like many of us, that the Christopher Steele-dossier was what prompted the Russia investigation so he s been lashing out at the Department of Justice and the FBI in order to protect Trump. As it happens, the dossier is not what started the investigation, according to documents obtained by the New York Times.Former Trump campaign adviser George Papadopoulos was drunk in a wine bar whe...</td>\n",
       "      <td>News</td>\n",
       "      <td>December 31, 2017</td>\n",
       "    </tr>\n",
       "    <tr>\n",
       "      <th>2</th>\n",
       "      <td>Sheriff David Clarke Becomes An Internet Joke For Threatening To Poke People ‘In The Eye’</td>\n",
       "      <td>On Friday, it was revealed that former Milwaukee Sheriff David Clarke, who was being considered for Homeland Security Secretary in Donald Trump s administration, has an email scandal of his own.In January, there was a brief run-in on a plane between Clarke and fellow passenger Dan Black, who he later had detained by the police for no reason whatsoever, except that maybe his feelings were hurt. Clarke messaged the police to stop Black after he deplaned, and now, a search warrant has been exec...</td>\n",
       "      <td>News</td>\n",
       "      <td>December 30, 2017</td>\n",
       "    </tr>\n",
       "    <tr>\n",
       "      <th>3</th>\n",
       "      <td>Trump Is So Obsessed He Even Has Obama’s Name Coded Into His Website (IMAGES)</td>\n",
       "      <td>On Christmas day, Donald Trump announced that he would  be back to work  the following day, but he is golfing for the fourth day in a row. The former reality show star blasted former President Barack Obama for playing golf and now Trump is on track to outpace the number of golf games his predecessor played.Updated my tracker of Trump s appearances at Trump properties.71 rounds of golf including today s. At this pace, he ll pass Obama s first-term total by July 24 next year. https://t.co/Fg7V...</td>\n",
       "      <td>News</td>\n",
       "      <td>December 29, 2017</td>\n",
       "    </tr>\n",
       "    <tr>\n",
       "      <th>4</th>\n",
       "      <td>Pope Francis Just Called Out Donald Trump During His Christmas Speech</td>\n",
       "      <td>Pope Francis used his annual Christmas Day message to rebuke Donald Trump without even mentioning his name. The Pope delivered his message just days after members of the United Nations condemned Trump s move to recognize Jerusalem as the capital of Israel. The Pontiff prayed on Monday for the  peaceful coexistence of two states within mutually agreed and internationally recognized borders. We see Jesus in the children of the Middle East who continue to suffer because of growing tensions betw...</td>\n",
       "      <td>News</td>\n",
       "      <td>December 25, 2017</td>\n",
       "    </tr>\n",
       "  </tbody>\n",
       "</table>\n",
       "</div>"
      ],
      "text/plain": [
       "                                                                                        title  \\\n",
       "0              Donald Trump Sends Out Embarrassing New Year’s Eve Message; This is Disturbing   \n",
       "1                        Drunk Bragging Trump Staffer Started Russian Collusion Investigation   \n",
       "2   Sheriff David Clarke Becomes An Internet Joke For Threatening To Poke People ‘In The Eye’   \n",
       "3               Trump Is So Obsessed He Even Has Obama’s Name Coded Into His Website (IMAGES)   \n",
       "4                       Pope Francis Just Called Out Donald Trump During His Christmas Speech   \n",
       "\n",
       "                                                                                                                                                                                                                                                                                                                                                                                                                                                                                                                  text  \\\n",
       "0  Donald Trump just couldn t wish all Americans a Happy New Year and leave it at that. Instead, he had to give a shout out to his enemies, haters and  the very dishonest fake news media.  The former reality show star had just one job to do and he couldn t do it. As our Country rapidly grows stronger and smarter, I want to wish all of my friends, supporters, enemies, haters, and even the very dishonest Fake News Media, a Happy and Healthy New Year,  President Angry Pants tweeted.  2018 will be ...   \n",
       "1  House Intelligence Committee Chairman Devin Nunes is going to have a bad day. He s been under the assumption, like many of us, that the Christopher Steele-dossier was what prompted the Russia investigation so he s been lashing out at the Department of Justice and the FBI in order to protect Trump. As it happens, the dossier is not what started the investigation, according to documents obtained by the New York Times.Former Trump campaign adviser George Papadopoulos was drunk in a wine bar whe...   \n",
       "2  On Friday, it was revealed that former Milwaukee Sheriff David Clarke, who was being considered for Homeland Security Secretary in Donald Trump s administration, has an email scandal of his own.In January, there was a brief run-in on a plane between Clarke and fellow passenger Dan Black, who he later had detained by the police for no reason whatsoever, except that maybe his feelings were hurt. Clarke messaged the police to stop Black after he deplaned, and now, a search warrant has been exec...   \n",
       "3  On Christmas day, Donald Trump announced that he would  be back to work  the following day, but he is golfing for the fourth day in a row. The former reality show star blasted former President Barack Obama for playing golf and now Trump is on track to outpace the number of golf games his predecessor played.Updated my tracker of Trump s appearances at Trump properties.71 rounds of golf including today s. At this pace, he ll pass Obama s first-term total by July 24 next year. https://t.co/Fg7V...   \n",
       "4  Pope Francis used his annual Christmas Day message to rebuke Donald Trump without even mentioning his name. The Pope delivered his message just days after members of the United Nations condemned Trump s move to recognize Jerusalem as the capital of Israel. The Pontiff prayed on Monday for the  peaceful coexistence of two states within mutually agreed and internationally recognized borders. We see Jesus in the children of the Middle East who continue to suffer because of growing tensions betw...   \n",
       "\n",
       "  subject               date  \n",
       "0    News  December 31, 2017  \n",
       "1    News  December 31, 2017  \n",
       "2    News  December 30, 2017  \n",
       "3    News  December 29, 2017  \n",
       "4    News  December 25, 2017  "
      ]
     },
     "execution_count": 104,
     "metadata": {},
     "output_type": "execute_result"
    }
   ],
   "source": [
    "df_fake.head()"
   ]
  },
  {
   "cell_type": "code",
   "execution_count": 105,
   "id": "d847489c",
   "metadata": {},
   "outputs": [],
   "source": [
    "#categorize them\n",
    "df_true['status'] = 1\n",
    "df_fake['status'] = 0"
   ]
  },
  {
   "cell_type": "code",
   "execution_count": 106,
   "id": "29066213",
   "metadata": {},
   "outputs": [],
   "source": [
    "#comibine both data frames\n",
    "df = pd.concat([df_true, df_fake])\n",
    "\n",
    "#we are only using the title to predict if news is fake or true thus drop the others\n",
    "df.drop(['text', 'subject', 'date'], axis=1, inplace=True)"
   ]
  },
  {
   "cell_type": "code",
   "execution_count": 107,
   "id": "3ab574e9",
   "metadata": {},
   "outputs": [],
   "source": [
    "#mix up the data frame so that fake and true news are not in order\n",
    "df = df.sample(frac=1, random_state=42).reset_index(drop=True)"
   ]
  },
  {
   "cell_type": "code",
   "execution_count": 119,
   "id": "d5e42dbe",
   "metadata": {},
   "outputs": [
    {
     "data": {
      "text/html": [
       "<div>\n",
       "<style scoped>\n",
       "    .dataframe tbody tr th:only-of-type {\n",
       "        vertical-align: middle;\n",
       "    }\n",
       "\n",
       "    .dataframe tbody tr th {\n",
       "        vertical-align: top;\n",
       "    }\n",
       "\n",
       "    .dataframe thead th {\n",
       "        text-align: right;\n",
       "    }\n",
       "</style>\n",
       "<table border=\"1\" class=\"dataframe\">\n",
       "  <thead>\n",
       "    <tr style=\"text-align: right;\">\n",
       "      <th></th>\n",
       "      <th>title</th>\n",
       "      <th>status</th>\n",
       "      <th>maximum_length</th>\n",
       "    </tr>\n",
       "  </thead>\n",
       "  <tbody>\n",
       "    <tr>\n",
       "      <th>21206</th>\n",
       "      <td>VANISHED: FBI FILES Related To Mysterious “Suicide” Death Of Hillary’s Trusted WH Counsel, Vince Foster DISAPPEAR From National Archives</td>\n",
       "      <td>0</td>\n",
       "      <td>19</td>\n",
       "    </tr>\n",
       "    <tr>\n",
       "      <th>5235</th>\n",
       "      <td>Philippine leader changes his tune with praise for U.S. 'allies'</td>\n",
       "      <td>1</td>\n",
       "      <td>10</td>\n",
       "    </tr>\n",
       "    <tr>\n",
       "      <th>13267</th>\n",
       "      <td>‘Bernie Sanders is on a Mission’</td>\n",
       "      <td>0</td>\n",
       "      <td>6</td>\n",
       "    </tr>\n",
       "    <tr>\n",
       "      <th>10473</th>\n",
       "      <td>Republican hold on U.S. state legislatures could slip in election</td>\n",
       "      <td>1</td>\n",
       "      <td>10</td>\n",
       "    </tr>\n",
       "    <tr>\n",
       "      <th>27048</th>\n",
       "      <td>27 People Murdered In Texas Mass Shooting, And Trump’s Response Is Classic Racist</td>\n",
       "      <td>0</td>\n",
       "      <td>13</td>\n",
       "    </tr>\n",
       "    <tr>\n",
       "      <th>30252</th>\n",
       "      <td>All the president's men: China's politburo line-up a measure of Xi's power</td>\n",
       "      <td>1</td>\n",
       "      <td>12</td>\n",
       "    </tr>\n",
       "    <tr>\n",
       "      <th>39931</th>\n",
       "      <td>Factbox: Contenders for key jobs in Trump's administration</td>\n",
       "      <td>1</td>\n",
       "      <td>8</td>\n",
       "    </tr>\n",
       "    <tr>\n",
       "      <th>42430</th>\n",
       "      <td>After Trump disclosures, UK's May says will continue to share intel with U.S.</td>\n",
       "      <td>1</td>\n",
       "      <td>13</td>\n",
       "    </tr>\n",
       "    <tr>\n",
       "      <th>6683</th>\n",
       "      <td>Stephen Colbert Just Got Himself Thrown Off The RNC Stage Before It Even Began (VIDEO)</td>\n",
       "      <td>0</td>\n",
       "      <td>15</td>\n",
       "    </tr>\n",
       "    <tr>\n",
       "      <th>42183</th>\n",
       "      <td>Another Win For The NRA: Court Rules That Cities Can’t Protect Themselves From Gun Violence</td>\n",
       "      <td>0</td>\n",
       "      <td>15</td>\n",
       "    </tr>\n",
       "    <tr>\n",
       "      <th>29666</th>\n",
       "      <td>Trump signs revised travel ban in bid to overcome legal challenges</td>\n",
       "      <td>1</td>\n",
       "      <td>11</td>\n",
       "    </tr>\n",
       "    <tr>\n",
       "      <th>20063</th>\n",
       "      <td>Judge rejects bid by 18 states to revive Obamacare subsidies</td>\n",
       "      <td>1</td>\n",
       "      <td>10</td>\n",
       "    </tr>\n",
       "    <tr>\n",
       "      <th>19135</th>\n",
       "      <td>JUST IN: California School Shooting Leaves Several Dead…Many Wounded [Video]</td>\n",
       "      <td>0</td>\n",
       "      <td>10</td>\n",
       "    </tr>\n",
       "    <tr>\n",
       "      <th>12949</th>\n",
       "      <td>White House says 'critical' that House passes healthcare bill Thursday</td>\n",
       "      <td>1</td>\n",
       "      <td>10</td>\n",
       "    </tr>\n",
       "    <tr>\n",
       "      <th>20269</th>\n",
       "      <td>Bill to cut off aid to Palestinians passed by U.S. committee</td>\n",
       "      <td>1</td>\n",
       "      <td>11</td>\n",
       "    </tr>\n",
       "    <tr>\n",
       "      <th>28679</th>\n",
       "      <td>Venezuela freeing some jailed activists, may expel diplomats</td>\n",
       "      <td>1</td>\n",
       "      <td>8</td>\n",
       "    </tr>\n",
       "    <tr>\n",
       "      <th>21533</th>\n",
       "      <td>Austria's Social Democrats urge Facebook to unmask people behind smear campaign</td>\n",
       "      <td>1</td>\n",
       "      <td>11</td>\n",
       "    </tr>\n",
       "    <tr>\n",
       "      <th>37280</th>\n",
       "      <td>Angry Constituents Shame Republican By Turning Their Backs On Him During Town Hall</td>\n",
       "      <td>0</td>\n",
       "      <td>13</td>\n",
       "    </tr>\n",
       "    <tr>\n",
       "      <th>36393</th>\n",
       "      <td>This Hidden Camera Footage Reveals A Disturbing Fact About Kids And Guns (VIDEO)</td>\n",
       "      <td>0</td>\n",
       "      <td>13</td>\n",
       "    </tr>\n",
       "    <tr>\n",
       "      <th>8664</th>\n",
       "      <td>'Glimmer of hope' seen for compromise U.S. gun control bill</td>\n",
       "      <td>1</td>\n",
       "      <td>10</td>\n",
       "    </tr>\n",
       "  </tbody>\n",
       "</table>\n",
       "</div>"
      ],
      "text/plain": [
       "                                                                                                                                          title  \\\n",
       "21206  VANISHED: FBI FILES Related To Mysterious “Suicide” Death Of Hillary’s Trusted WH Counsel, Vince Foster DISAPPEAR From National Archives   \n",
       "5235                                                                           Philippine leader changes his tune with praise for U.S. 'allies'   \n",
       "13267                                                                                                          ‘Bernie Sanders is on a Mission’   \n",
       "10473                                                                         Republican hold on U.S. state legislatures could slip in election   \n",
       "27048                                                         27 People Murdered In Texas Mass Shooting, And Trump’s Response Is Classic Racist   \n",
       "30252                                                                All the president's men: China's politburo line-up a measure of Xi's power   \n",
       "39931                                                                                Factbox: Contenders for key jobs in Trump's administration   \n",
       "42430                                                             After Trump disclosures, UK's May says will continue to share intel with U.S.   \n",
       "6683                                                     Stephen Colbert Just Got Himself Thrown Off The RNC Stage Before It Even Began (VIDEO)   \n",
       "42183                                               Another Win For The NRA: Court Rules That Cities Can’t Protect Themselves From Gun Violence   \n",
       "29666                                                                        Trump signs revised travel ban in bid to overcome legal challenges   \n",
       "20063                                                                              Judge rejects bid by 18 states to revive Obamacare subsidies   \n",
       "19135                                                              JUST IN: California School Shooting Leaves Several Dead…Many Wounded [Video]   \n",
       "12949                                                                    White House says 'critical' that House passes healthcare bill Thursday   \n",
       "20269                                                                              Bill to cut off aid to Palestinians passed by U.S. committee   \n",
       "28679                                                                              Venezuela freeing some jailed activists, may expel diplomats   \n",
       "21533                                                           Austria's Social Democrats urge Facebook to unmask people behind smear campaign   \n",
       "37280                                                        Angry Constituents Shame Republican By Turning Their Backs On Him During Town Hall   \n",
       "36393                                                          This Hidden Camera Footage Reveals A Disturbing Fact About Kids And Guns (VIDEO)   \n",
       "8664                                                                                'Glimmer of hope' seen for compromise U.S. gun control bill   \n",
       "\n",
       "       status  maximum_length  \n",
       "21206       0              19  \n",
       "5235        1              10  \n",
       "13267       0               6  \n",
       "10473       1              10  \n",
       "27048       0              13  \n",
       "30252       1              12  \n",
       "39931       1               8  \n",
       "42430       1              13  \n",
       "6683        0              15  \n",
       "42183       0              15  \n",
       "29666       1              11  \n",
       "20063       1              10  \n",
       "19135       0              10  \n",
       "12949       1              10  \n",
       "20269       1              11  \n",
       "28679       1               8  \n",
       "21533       1              11  \n",
       "37280       0              13  \n",
       "36393       0              13  \n",
       "8664        1              10  "
      ]
     },
     "execution_count": 119,
     "metadata": {},
     "output_type": "execute_result"
    }
   ],
   "source": [
    "pd.set_option('display.max_colwidth', 500)\n",
    "random = np.random.randint(0,len(df),20)\n",
    "df.iloc[random]"
   ]
  },
  {
   "cell_type": "code",
   "execution_count": 120,
   "id": "b35b4f7c",
   "metadata": {},
   "outputs": [
    {
     "data": {
      "text/plain": [
       "title             0\n",
       "status            0\n",
       "maximum_length    0\n",
       "dtype: int64"
      ]
     },
     "execution_count": 120,
     "metadata": {},
     "output_type": "execute_result"
    }
   ],
   "source": [
    "#check for null values\n",
    "df.isnull().sum()"
   ]
  },
  {
   "cell_type": "code",
   "execution_count": 121,
   "id": "eddeb0d8",
   "metadata": {},
   "outputs": [
    {
     "name": "stdout",
     "output_type": "stream",
     "text": [
      "The longest length of a sentence is 42 words.\n"
     ]
    }
   ],
   "source": [
    "#gets the length of a inputted sentence\n",
    "def longest_sentence_length(text):\n",
    "\treturn len(text.split())\n",
    "\n",
    "#Neural networks expect inputs of the same length\n",
    "#So i have to make it a range of length from 0-max_length in my case 42\n",
    "df['maximum_length'] = df['title'].apply(lambda x : longest_sentence_length(x))\n",
    "max_length = max(df['maximum_length'])\n",
    "print(f'The longest length of a sentence is {max_length} words.')"
   ]
  },
  {
   "cell_type": "code",
   "execution_count": 122,
   "id": "187f9aeb",
   "metadata": {},
   "outputs": [],
   "source": [
    "#exaclty how to clean up text: removes things that start with 0 or non alphanumeric characters\n",
    "text_cleaning = \"\\b0\\S*|\\b[^A-Za-z0-9]+\"\n",
    "\n",
    "#stemming which is reducing works to their root like running -> run is disabled \n",
    "def preprocessing_filter(text, stem=False):\n",
    "\t\n",
    "\t#removes the unwanted characters using 'text_cleaning' \n",
    "\ttext = re.sub(text_cleaning, ' ', text)\n",
    "\n",
    "\t#creates an empty list of the words we are about to put inside\n",
    "\ttokens = []\n",
    "\n",
    "\t\n",
    "\tfor token in text.split():\n",
    "\n",
    "\t\t#if it's not one of those filler words\n",
    "\t\tif token not in stop_words:\n",
    "\n",
    "\t\t\t#if the user decides to stem the words\n",
    "\t\t\tif stem:\n",
    "\n",
    "\t\t\t\t#creates a stemmer object\n",
    "\t\t\t\tstemmer = snowballStemmer('english')\n",
    "\n",
    "\t\t\t\t#stems the token\n",
    "\t\t\t\ttoken = stemmer.stem(token)\n",
    "\n",
    "\t\t\t#put the token into the list\n",
    "\t\t\ttokens.append(token)\n",
    "\n",
    "\t#joins the tokens back into a sentence\n",
    "\treturn \" \".join(tokens)"
   ]
  },
  {
   "cell_type": "code",
   "execution_count": 123,
   "id": "dffc5e63",
   "metadata": {},
   "outputs": [],
   "source": [
    "# Word embedding with pre padding \n",
    "def one_hot_encoded(text,vocab_size=5000, max_length = 40):\n",
    "    hot_encoded = one_hot(text,vocab_size)\n",
    "    return hot_encoded"
   ]
  },
  {
   "cell_type": "code",
   "execution_count": 124,
   "id": "01b380cc",
   "metadata": {},
   "outputs": [],
   "source": [
    "#Now im going to convert the words into vectors using one hot encoding\n",
    "def word_embedding(text):\n",
    "\n",
    "\t#from the previous function, get the preprocessed text\n",
    "\tpreprocessed_text = preprocessing_filter(text)\n",
    "\n",
    "\t#hot encode the remade sentence into vectors\n",
    "\treturn one_hot_encoded(preprocessed_text)"
   ]
  },
  {
   "cell_type": "code",
   "execution_count": 125,
   "id": "30b96f03",
   "metadata": {},
   "outputs": [
    {
     "data": {
      "text/html": [
       "<pre style=\"white-space:pre;overflow-x:auto;line-height:normal;font-family:Menlo,'DejaVu Sans Mono',consolas,'Courier New',monospace\"><span style=\"font-weight: bold\">Model: \"sequential_8\"</span>\n",
       "</pre>\n"
      ],
      "text/plain": [
       "\u001b[1mModel: \"sequential_8\"\u001b[0m\n"
      ]
     },
     "metadata": {},
     "output_type": "display_data"
    },
    {
     "data": {
      "text/html": [
       "<pre style=\"white-space:pre;overflow-x:auto;line-height:normal;font-family:Menlo,'DejaVu Sans Mono',consolas,'Courier New',monospace\">┏━━━━━━━━━━━━━━━━━━━━━━━━━━━━━━━━━┳━━━━━━━━━━━━━━━━━━━━━━━━┳━━━━━━━━━━━━━━━┓\n",
       "┃<span style=\"font-weight: bold\"> Layer (type)                    </span>┃<span style=\"font-weight: bold\"> Output Shape           </span>┃<span style=\"font-weight: bold\">       Param # </span>┃\n",
       "┡━━━━━━━━━━━━━━━━━━━━━━━━━━━━━━━━━╇━━━━━━━━━━━━━━━━━━━━━━━━╇━━━━━━━━━━━━━━━┩\n",
       "│ embedding_8 (<span style=\"color: #0087ff; text-decoration-color: #0087ff\">Embedding</span>)         │ ?                      │   <span style=\"color: #00af00; text-decoration-color: #00af00\">0</span> (unbuilt) │\n",
       "├─────────────────────────────────┼────────────────────────┼───────────────┤\n",
       "│ lstm_16 (<span style=\"color: #0087ff; text-decoration-color: #0087ff\">LSTM</span>)                  │ ?                      │   <span style=\"color: #00af00; text-decoration-color: #00af00\">0</span> (unbuilt) │\n",
       "├─────────────────────────────────┼────────────────────────┼───────────────┤\n",
       "│ dropout_8 (<span style=\"color: #0087ff; text-decoration-color: #0087ff\">Dropout</span>)             │ ?                      │             <span style=\"color: #00af00; text-decoration-color: #00af00\">0</span> │\n",
       "├─────────────────────────────────┼────────────────────────┼───────────────┤\n",
       "│ lstm_17 (<span style=\"color: #0087ff; text-decoration-color: #0087ff\">LSTM</span>)                  │ ?                      │   <span style=\"color: #00af00; text-decoration-color: #00af00\">0</span> (unbuilt) │\n",
       "├─────────────────────────────────┼────────────────────────┼───────────────┤\n",
       "│ dense_8 (<span style=\"color: #0087ff; text-decoration-color: #0087ff\">Dense</span>)                 │ ?                      │   <span style=\"color: #00af00; text-decoration-color: #00af00\">0</span> (unbuilt) │\n",
       "└─────────────────────────────────┴────────────────────────┴───────────────┘\n",
       "</pre>\n"
      ],
      "text/plain": [
       "┏━━━━━━━━━━━━━━━━━━━━━━━━━━━━━━━━━┳━━━━━━━━━━━━━━━━━━━━━━━━┳━━━━━━━━━━━━━━━┓\n",
       "┃\u001b[1m \u001b[0m\u001b[1mLayer (type)                   \u001b[0m\u001b[1m \u001b[0m┃\u001b[1m \u001b[0m\u001b[1mOutput Shape          \u001b[0m\u001b[1m \u001b[0m┃\u001b[1m \u001b[0m\u001b[1m      Param #\u001b[0m\u001b[1m \u001b[0m┃\n",
       "┡━━━━━━━━━━━━━━━━━━━━━━━━━━━━━━━━━╇━━━━━━━━━━━━━━━━━━━━━━━━╇━━━━━━━━━━━━━━━┩\n",
       "│ embedding_8 (\u001b[38;5;33mEmbedding\u001b[0m)         │ ?                      │   \u001b[38;5;34m0\u001b[0m (unbuilt) │\n",
       "├─────────────────────────────────┼────────────────────────┼───────────────┤\n",
       "│ lstm_16 (\u001b[38;5;33mLSTM\u001b[0m)                  │ ?                      │   \u001b[38;5;34m0\u001b[0m (unbuilt) │\n",
       "├─────────────────────────────────┼────────────────────────┼───────────────┤\n",
       "│ dropout_8 (\u001b[38;5;33mDropout\u001b[0m)             │ ?                      │             \u001b[38;5;34m0\u001b[0m │\n",
       "├─────────────────────────────────┼────────────────────────┼───────────────┤\n",
       "│ lstm_17 (\u001b[38;5;33mLSTM\u001b[0m)                  │ ?                      │   \u001b[38;5;34m0\u001b[0m (unbuilt) │\n",
       "├─────────────────────────────────┼────────────────────────┼───────────────┤\n",
       "│ dense_8 (\u001b[38;5;33mDense\u001b[0m)                 │ ?                      │   \u001b[38;5;34m0\u001b[0m (unbuilt) │\n",
       "└─────────────────────────────────┴────────────────────────┴───────────────┘\n"
      ]
     },
     "metadata": {},
     "output_type": "display_data"
    },
    {
     "data": {
      "text/html": [
       "<pre style=\"white-space:pre;overflow-x:auto;line-height:normal;font-family:Menlo,'DejaVu Sans Mono',consolas,'Courier New',monospace\"><span style=\"font-weight: bold\"> Total params: </span><span style=\"color: #00af00; text-decoration-color: #00af00\">0</span> (0.00 B)\n",
       "</pre>\n"
      ],
      "text/plain": [
       "\u001b[1m Total params: \u001b[0m\u001b[38;5;34m0\u001b[0m (0.00 B)\n"
      ]
     },
     "metadata": {},
     "output_type": "display_data"
    },
    {
     "data": {
      "text/html": [
       "<pre style=\"white-space:pre;overflow-x:auto;line-height:normal;font-family:Menlo,'DejaVu Sans Mono',consolas,'Courier New',monospace\"><span style=\"font-weight: bold\"> Trainable params: </span><span style=\"color: #00af00; text-decoration-color: #00af00\">0</span> (0.00 B)\n",
       "</pre>\n"
      ],
      "text/plain": [
       "\u001b[1m Trainable params: \u001b[0m\u001b[38;5;34m0\u001b[0m (0.00 B)\n"
      ]
     },
     "metadata": {},
     "output_type": "display_data"
    },
    {
     "data": {
      "text/html": [
       "<pre style=\"white-space:pre;overflow-x:auto;line-height:normal;font-family:Menlo,'DejaVu Sans Mono',consolas,'Courier New',monospace\"><span style=\"font-weight: bold\"> Non-trainable params: </span><span style=\"color: #00af00; text-decoration-color: #00af00\">0</span> (0.00 B)\n",
       "</pre>\n"
      ],
      "text/plain": [
       "\u001b[1m Non-trainable params: \u001b[0m\u001b[38;5;34m0\u001b[0m (0.00 B)\n"
      ]
     },
     "metadata": {},
     "output_type": "display_data"
    },
    {
     "name": "stdout",
     "output_type": "stream",
     "text": [
      "None\n"
     ]
    }
   ],
   "source": [
    "#each word is a vector pointing in a 40 dimensional space\n",
    "embedded_features = 40\n",
    "\n",
    "#define the model\n",
    "model = Sequential()\n",
    "\n",
    "#5000 size vocabulary, vector dimension of each word, input length max of 42 words\n",
    "model.add(Embedding(5000, embedded_features, input_length=max_length))\n",
    "\n",
    "#LSTM layer with 100 neurons, returns sequence to next layer\n",
    "model.add(LSTM(100, return_sequences=True))\n",
    "\n",
    "#zeroes out 30% of the neurons to prevent overfitting(knowing the dataset too well)\n",
    "model.add(Dropout(0.3))\n",
    "\n",
    "#second LSTM layer and don't have it return sequences because it's the last LSTM layer\n",
    "model.add(LSTM(100))\n",
    "\n",
    "#last layer with sigmoid activation function for binary classification 0-1\n",
    "model.add(Dense(1, activation='sigmoid'))\n",
    "\n",
    "#compile the model and use binary crossentropy loss function since it's binary classification\n",
    "#how it will measure weighs and biases is through adam optimizer\n",
    "#and track accuracy as a metric. EX: True value[0,0,0,0] Predicted value[0,0,0,1] accuracy is 75%\n",
    "model.compile(loss='binary_crossentropy', optimizer='adam', metrics=['accuracy'])\n",
    "\n",
    "\n",
    "print(model.summary())\n"
   ]
  },
  {
   "cell_type": "code",
   "execution_count": 126,
   "id": "de2c908e",
   "metadata": {},
   "outputs": [],
   "source": [
    "#Hot encode the titles however not all of them will be the same list size\n",
    "one_hot_encoded_title = df['title'].apply(lambda x : word_embedding(x)).values"
   ]
  },
  {
   "cell_type": "code",
   "execution_count": 129,
   "id": "81e520ad",
   "metadata": {},
   "outputs": [],
   "source": [
    "#now in order  of have the same length, we will pad the sequences with zeros at the beginning\n",
    "#previously we hot encoded text with 40 dimensional vectors\n",
    "#now we are hot encoding the titles with 42 words for max lengnth\n",
    "#pre padding meaning putting the 0s at the beginning\n",
    "padded_encoded_title = pad_sequences(one_hot_encoded_title, maxlen=max_length,padding='pre')"
   ]
  },
  {
   "cell_type": "code",
   "execution_count": null,
   "id": "fb10947b",
   "metadata": {},
   "outputs": [
    {
     "name": "stdout",
     "output_type": "stream",
     "text": [
      "X shape: (44898, 42)\n",
      "Y shape: (44898,)\n"
     ]
    }
   ],
   "source": [
    "#features\n",
    "X = padded_encoded_title\n",
    "\n",
    "#labels\n",
    "y = df['status'].values\n",
    "\n",
    "print(f'X shape: {X.shape}')\n",
    "print(f'Y shape: {y.shape}')"
   ]
  },
  {
   "cell_type": "code",
   "execution_count": 133,
   "id": "7bc1104e",
   "metadata": {},
   "outputs": [
    {
     "name": "stdout",
     "output_type": "stream",
     "text": [
      "X train shape (33673, 42)\n",
      "X test shape (11225, 42)\n",
      "y train shape (33673,)\n",
      "y test shape (11225,)\n"
     ]
    }
   ],
   "source": [
    "X_train, X_test, y_train, y_test = train_test_split(X, y, random_state=42)\n",
    "print('X train shape {}'.format(X_train.shape))\n",
    "print('X test shape {}'.format(X_test.shape))\n",
    "print('y train shape {}'.format(y_train.shape))\n",
    "print('y test shape {}'.format(y_test.shape))"
   ]
  },
  {
   "cell_type": "code",
   "execution_count": null,
   "id": "a83b670f",
   "metadata": {},
   "outputs": [
    {
     "name": "stdout",
     "output_type": "stream",
     "text": [
      "Epoch 1/15\n",
      "\u001b[1m526/527\u001b[0m \u001b[32m━━━━━━━━━━━━━━━━━━━\u001b[0m\u001b[37m━\u001b[0m \u001b[1m0s\u001b[0m 24ms/step - accuracy: 0.9203 - loss: 0.1906\n",
      "Epoch 1: val_accuracy improved from None to 0.98192, saving model to best_model.h5\n"
     ]
    },
    {
     "name": "stderr",
     "output_type": "stream",
     "text": [
      "WARNING:absl:You are saving your model as an HDF5 file via `model.save()` or `keras.saving.save_model(model)`. This file format is considered legacy. We recommend using instead the native Keras format, e.g. `model.save('my_model.keras')` or `keras.saving.save_model(model, 'my_model.keras')`. \n"
     ]
    },
    {
     "name": "stdout",
     "output_type": "stream",
     "text": [
      "\u001b[1m527/527\u001b[0m \u001b[32m━━━━━━━━━━━━━━━━━━━━\u001b[0m\u001b[37m\u001b[0m \u001b[1m16s\u001b[0m 28ms/step - accuracy: 0.9619 - loss: 0.1028 - val_accuracy: 0.9819 - val_loss: 0.0567\n",
      "Epoch 2/15\n",
      "\u001b[1m526/527\u001b[0m \u001b[32m━━━━━━━━━━━━━━━━━━━\u001b[0m\u001b[37m━\u001b[0m \u001b[1m0s\u001b[0m 25ms/step - accuracy: 0.9901 - loss: 0.0333\n",
      "Epoch 2: val_accuracy did not improve from 0.98192\n",
      "\u001b[1m527/527\u001b[0m \u001b[32m━━━━━━━━━━━━━━━━━━━━\u001b[0m\u001b[37m\u001b[0m \u001b[1m15s\u001b[0m 28ms/step - accuracy: 0.9894 - loss: 0.0349 - val_accuracy: 0.9816 - val_loss: 0.0569\n",
      "Epoch 3/15\n",
      "\u001b[1m526/527\u001b[0m \u001b[32m━━━━━━━━━━━━━━━━━━━\u001b[0m\u001b[37m━\u001b[0m \u001b[1m0s\u001b[0m 23ms/step - accuracy: 0.9957 - loss: 0.0164\n",
      "Epoch 3: val_accuracy improved from 0.98192 to 0.98263, saving model to best_model.h5\n"
     ]
    },
    {
     "name": "stderr",
     "output_type": "stream",
     "text": [
      "WARNING:absl:You are saving your model as an HDF5 file via `model.save()` or `keras.saving.save_model(model)`. This file format is considered legacy. We recommend using instead the native Keras format, e.g. `model.save('my_model.keras')` or `keras.saving.save_model(model, 'my_model.keras')`. \n"
     ]
    },
    {
     "name": "stdout",
     "output_type": "stream",
     "text": [
      "\u001b[1m527/527\u001b[0m \u001b[32m━━━━━━━━━━━━━━━━━━━━\u001b[0m\u001b[37m\u001b[0m \u001b[1m14s\u001b[0m 26ms/step - accuracy: 0.9947 - loss: 0.0181 - val_accuracy: 0.9826 - val_loss: 0.0650\n",
      "Epoch 4/15\n",
      "\u001b[1m527/527\u001b[0m \u001b[32m━━━━━━━━━━━━━━━━━━━━\u001b[0m\u001b[37m\u001b[0m \u001b[1m0s\u001b[0m 24ms/step - accuracy: 0.9976 - loss: 0.0087\n",
      "Epoch 4: val_accuracy did not improve from 0.98263\n",
      "\u001b[1m527/527\u001b[0m \u001b[32m━━━━━━━━━━━━━━━━━━━━\u001b[0m\u001b[37m\u001b[0m \u001b[1m14s\u001b[0m 27ms/step - accuracy: 0.9970 - loss: 0.0107 - val_accuracy: 0.9811 - val_loss: 0.0780\n",
      "Epoch 4: early stopping\n"
     ]
    },
    {
     "data": {
      "text/plain": [
       "<keras.src.callbacks.history.History at 0x3487eaa50>"
      ]
     },
     "execution_count": 136,
     "metadata": {},
     "output_type": "execute_result"
    }
   ],
   "source": [
    "#monitor: monitors how bad the model is doing on validation loss\n",
    "#patience: waits 3 epochs before stopping if no improvement\n",
    "#verbose: prints out messages\n",
    "early_stopping = EarlyStopping(monitor='val_loss', patience=3, verbose=1)\n",
    "\n",
    "#saves the best model only according to validation accuracy\n",
    "#even if you get ovefitting you can still keep the best model\n",
    "model_checkpoint = ModelCheckpoint('best_model.h5', monitor='val_accuracy', save_best_only=True, verbose=1)\n",
    "\n",
    "#so it will train each row and at the end of every epoch it will check using all\n",
    "#the test data to see how well it did. \n",
    "\n",
    "#once it runs thourgh all of them it will chose the model that did the best on validation data\n",
    "# and save it as best_model.h5\n",
    "model.fit(X_train, y_train, validation_data=(X_test, y_test), epochs=15, batch_size=64, callbacks=[early_stopping, model_checkpoint])\n"
   ]
  },
  {
   "cell_type": "code",
   "execution_count": null,
   "id": "c6857d08",
   "metadata": {},
   "outputs": [],
   "source": [
    "def best_threshold(thresholds:list, X_test):\n",
    "\taccuracies = []\n",
    "\tfor thresh in thresholds:\n",
    "\t\typred = model.predict(X_test)\n",
    "\t\t"
   ]
  }
 ],
 "metadata": {
  "kernelspec": {
   "display_name": "tfodj",
   "language": "python",
   "name": "tfodj"
  },
  "language_info": {
   "codemirror_mode": {
    "name": "ipython",
    "version": 3
   },
   "file_extension": ".py",
   "mimetype": "text/x-python",
   "name": "python",
   "nbconvert_exporter": "python",
   "pygments_lexer": "ipython3",
   "version": "3.13.5"
  }
 },
 "nbformat": 4,
 "nbformat_minor": 5
}
